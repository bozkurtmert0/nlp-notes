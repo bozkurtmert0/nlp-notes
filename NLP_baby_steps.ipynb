{
  "nbformat": 4,
  "nbformat_minor": 0,
  "metadata": {
    "colab": {
      "name": "NLP_baby_steps.ipynb",
      "provenance": []
    },
    "kernelspec": {
      "name": "python3",
      "display_name": "Python 3"
    },
    "language_info": {
      "name": "python"
    }
  },
  "cells": [
    {
      "cell_type": "markdown",
      "source": [
        "# NLP Giriş"
      ],
      "metadata": {
        "id": "tLhv9VZOkd2j"
      }
    },
    {
      "cell_type": "markdown",
      "source": [
        "**Metin Ön İşleme**"
      ],
      "metadata": {
        "id": "e1P65ZIzkiui"
      }
    },
    {
      "cell_type": "markdown",
      "source": [
        "Kitap isimlerinin olduğu bir veri"
      ],
      "metadata": {
        "id": "fICDJq97kx2z"
      }
    },
    {
      "cell_type": "code",
      "execution_count": 34,
      "metadata": {
        "colab": {
          "base_uri": "https://localhost:8080/",
          "height": 105
        },
        "id": "Aie68GOokaNv",
        "outputId": "67ff5f92-54d7-409c-b118-3c4bc58d7b2c"
      },
      "outputs": [
        {
          "output_type": "execute_result",
          "data": {
            "application/vnd.google.colaboratory.intrinsic+json": {
              "type": "string"
            },
            "text/plain": [
              "\"\\nA Scandal in Bohemia! 01\\nThe Red-headed League,2\\nA Case, of Identity 33\\nThe Boscombe Valley Mystery4\\nThe Five Orange Pips1\\nThe Man with? the Twisted Lip\\nThe Adventure of the Blue Carbuncle\\nThe Adventure of the Speckled Band\\nThe Adventure of the Engineer's Thumb\\nThe Adventure of the Noble Bachelor\\nThe Adventure of the Beryl Coronet\\nThe Adventure of the Copper Beeches\""
            ]
          },
          "metadata": {},
          "execution_count": 34
        }
      ],
      "source": [
        "metin = \"\"\"\n",
        "A Scandal in Bohemia! 01\n",
        "The Red-headed League,2\n",
        "A Case, of Identity 33\n",
        "The Boscombe Valley Mystery4\n",
        "The Five Orange Pips1\n",
        "The Man with? the Twisted Lip\n",
        "The Adventure of the Blue Carbuncle\n",
        "The Adventure of the Speckled Band\n",
        "The Adventure of the Engineer's Thumb\n",
        "The Adventure of the Noble Bachelor\n",
        "The Adventure of the Beryl Coronet\n",
        "The Adventure of the Copper Beeches\"\"\"\n",
        "\n",
        "metin"
      ]
    },
    {
      "cell_type": "markdown",
      "source": [
        "Bölme işlemi yapalım"
      ],
      "metadata": {
        "id": "qOKV5Fnnk2du"
      }
    },
    {
      "cell_type": "code",
      "source": [
        "metin.split(\"\\n\")"
      ],
      "metadata": {
        "colab": {
          "base_uri": "https://localhost:8080/"
        },
        "id": "BkrZTObQkcRX",
        "outputId": "599ab624-09b8-49d4-bd63-3d608fde5558"
      },
      "execution_count": 35,
      "outputs": [
        {
          "output_type": "execute_result",
          "data": {
            "text/plain": [
              "['',\n",
              " 'A Scandal in Bohemia! 01',\n",
              " 'The Red-headed League,2',\n",
              " 'A Case, of Identity 33',\n",
              " 'The Boscombe Valley Mystery4',\n",
              " 'The Five Orange Pips1',\n",
              " 'The Man with? the Twisted Lip',\n",
              " 'The Adventure of the Blue Carbuncle',\n",
              " 'The Adventure of the Speckled Band',\n",
              " \"The Adventure of the Engineer's Thumb\",\n",
              " 'The Adventure of the Noble Bachelor',\n",
              " 'The Adventure of the Beryl Coronet',\n",
              " 'The Adventure of the Copper Beeches']"
            ]
          },
          "metadata": {},
          "execution_count": 35
        }
      ]
    },
    {
      "cell_type": "code",
      "source": [
        "v_metin = metin.split(\"\\n\")"
      ],
      "metadata": {
        "id": "tlxfr8cwlCm1"
      },
      "execution_count": 36,
      "outputs": []
    },
    {
      "cell_type": "markdown",
      "source": [
        "Şimdi vektörleştirelim"
      ],
      "metadata": {
        "id": "2VWK6VEulc9b"
      }
    },
    {
      "cell_type": "code",
      "source": [
        "import pandas as pd\n",
        "v = pd.Series(v_metin)\n",
        "v"
      ],
      "metadata": {
        "colab": {
          "base_uri": "https://localhost:8080/"
        },
        "id": "O4PYB_mTlK-c",
        "outputId": "cf0e0312-3d80-4b5a-bb67-9a3119d2e9c0"
      },
      "execution_count": 37,
      "outputs": [
        {
          "output_type": "execute_result",
          "data": {
            "text/plain": [
              "0                                          \n",
              "1                  A Scandal in Bohemia! 01\n",
              "2                   The Red-headed League,2\n",
              "3                    A Case, of Identity 33\n",
              "4              The Boscombe Valley Mystery4\n",
              "5                     The Five Orange Pips1\n",
              "6             The Man with? the Twisted Lip\n",
              "7       The Adventure of the Blue Carbuncle\n",
              "8        The Adventure of the Speckled Band\n",
              "9     The Adventure of the Engineer's Thumb\n",
              "10      The Adventure of the Noble Bachelor\n",
              "11       The Adventure of the Beryl Coronet\n",
              "12      The Adventure of the Copper Beeches\n",
              "dtype: object"
            ]
          },
          "metadata": {},
          "execution_count": 37
        }
      ]
    },
    {
      "cell_type": "code",
      "source": [
        "metin_vektor = v[1:len(v)]\n",
        "metin_vektor"
      ],
      "metadata": {
        "colab": {
          "base_uri": "https://localhost:8080/"
        },
        "id": "wN8rAABal2s7",
        "outputId": "b451ecd7-cc9d-421a-909a-ef302c9be7f5"
      },
      "execution_count": 38,
      "outputs": [
        {
          "output_type": "execute_result",
          "data": {
            "text/plain": [
              "1                  A Scandal in Bohemia! 01\n",
              "2                   The Red-headed League,2\n",
              "3                    A Case, of Identity 33\n",
              "4              The Boscombe Valley Mystery4\n",
              "5                     The Five Orange Pips1\n",
              "6             The Man with? the Twisted Lip\n",
              "7       The Adventure of the Blue Carbuncle\n",
              "8        The Adventure of the Speckled Band\n",
              "9     The Adventure of the Engineer's Thumb\n",
              "10      The Adventure of the Noble Bachelor\n",
              "11       The Adventure of the Beryl Coronet\n",
              "12      The Adventure of the Copper Beeches\n",
              "dtype: object"
            ]
          },
          "metadata": {},
          "execution_count": 38
        }
      ]
    },
    {
      "cell_type": "markdown",
      "source": [
        "Rahat çalışmak için DataFrame e çevirelim"
      ],
      "metadata": {
        "id": "DJMnCyN_lnoj"
      }
    },
    {
      "cell_type": "code",
      "source": [
        "metin_df = pd.DataFrame(metin_vektor,columns = [\"Romanlar\"])\n",
        "metin_df"
      ],
      "metadata": {
        "colab": {
          "base_uri": "https://localhost:8080/",
          "height": 426
        },
        "id": "Xq4_98Y0lSNs",
        "outputId": "eaec0944-3f04-44bc-ac85-115c6e327d1f"
      },
      "execution_count": 39,
      "outputs": [
        {
          "output_type": "execute_result",
          "data": {
            "text/html": [
              "\n",
              "  <div id=\"df-9e2e134c-136c-40b7-b16d-adedf8be7e61\">\n",
              "    <div class=\"colab-df-container\">\n",
              "      <div>\n",
              "<style scoped>\n",
              "    .dataframe tbody tr th:only-of-type {\n",
              "        vertical-align: middle;\n",
              "    }\n",
              "\n",
              "    .dataframe tbody tr th {\n",
              "        vertical-align: top;\n",
              "    }\n",
              "\n",
              "    .dataframe thead th {\n",
              "        text-align: right;\n",
              "    }\n",
              "</style>\n",
              "<table border=\"1\" class=\"dataframe\">\n",
              "  <thead>\n",
              "    <tr style=\"text-align: right;\">\n",
              "      <th></th>\n",
              "      <th>Romanlar</th>\n",
              "    </tr>\n",
              "  </thead>\n",
              "  <tbody>\n",
              "    <tr>\n",
              "      <th>1</th>\n",
              "      <td>A Scandal in Bohemia! 01</td>\n",
              "    </tr>\n",
              "    <tr>\n",
              "      <th>2</th>\n",
              "      <td>The Red-headed League,2</td>\n",
              "    </tr>\n",
              "    <tr>\n",
              "      <th>3</th>\n",
              "      <td>A Case, of Identity 33</td>\n",
              "    </tr>\n",
              "    <tr>\n",
              "      <th>4</th>\n",
              "      <td>The Boscombe Valley Mystery4</td>\n",
              "    </tr>\n",
              "    <tr>\n",
              "      <th>5</th>\n",
              "      <td>The Five Orange Pips1</td>\n",
              "    </tr>\n",
              "    <tr>\n",
              "      <th>6</th>\n",
              "      <td>The Man with? the Twisted Lip</td>\n",
              "    </tr>\n",
              "    <tr>\n",
              "      <th>7</th>\n",
              "      <td>The Adventure of the Blue Carbuncle</td>\n",
              "    </tr>\n",
              "    <tr>\n",
              "      <th>8</th>\n",
              "      <td>The Adventure of the Speckled Band</td>\n",
              "    </tr>\n",
              "    <tr>\n",
              "      <th>9</th>\n",
              "      <td>The Adventure of the Engineer's Thumb</td>\n",
              "    </tr>\n",
              "    <tr>\n",
              "      <th>10</th>\n",
              "      <td>The Adventure of the Noble Bachelor</td>\n",
              "    </tr>\n",
              "    <tr>\n",
              "      <th>11</th>\n",
              "      <td>The Adventure of the Beryl Coronet</td>\n",
              "    </tr>\n",
              "    <tr>\n",
              "      <th>12</th>\n",
              "      <td>The Adventure of the Copper Beeches</td>\n",
              "    </tr>\n",
              "  </tbody>\n",
              "</table>\n",
              "</div>\n",
              "      <button class=\"colab-df-convert\" onclick=\"convertToInteractive('df-9e2e134c-136c-40b7-b16d-adedf8be7e61')\"\n",
              "              title=\"Convert this dataframe to an interactive table.\"\n",
              "              style=\"display:none;\">\n",
              "        \n",
              "  <svg xmlns=\"http://www.w3.org/2000/svg\" height=\"24px\"viewBox=\"0 0 24 24\"\n",
              "       width=\"24px\">\n",
              "    <path d=\"M0 0h24v24H0V0z\" fill=\"none\"/>\n",
              "    <path d=\"M18.56 5.44l.94 2.06.94-2.06 2.06-.94-2.06-.94-.94-2.06-.94 2.06-2.06.94zm-11 1L8.5 8.5l.94-2.06 2.06-.94-2.06-.94L8.5 2.5l-.94 2.06-2.06.94zm10 10l.94 2.06.94-2.06 2.06-.94-2.06-.94-.94-2.06-.94 2.06-2.06.94z\"/><path d=\"M17.41 7.96l-1.37-1.37c-.4-.4-.92-.59-1.43-.59-.52 0-1.04.2-1.43.59L10.3 9.45l-7.72 7.72c-.78.78-.78 2.05 0 2.83L4 21.41c.39.39.9.59 1.41.59.51 0 1.02-.2 1.41-.59l7.78-7.78 2.81-2.81c.8-.78.8-2.07 0-2.86zM5.41 20L4 18.59l7.72-7.72 1.47 1.35L5.41 20z\"/>\n",
              "  </svg>\n",
              "      </button>\n",
              "      \n",
              "  <style>\n",
              "    .colab-df-container {\n",
              "      display:flex;\n",
              "      flex-wrap:wrap;\n",
              "      gap: 12px;\n",
              "    }\n",
              "\n",
              "    .colab-df-convert {\n",
              "      background-color: #E8F0FE;\n",
              "      border: none;\n",
              "      border-radius: 50%;\n",
              "      cursor: pointer;\n",
              "      display: none;\n",
              "      fill: #1967D2;\n",
              "      height: 32px;\n",
              "      padding: 0 0 0 0;\n",
              "      width: 32px;\n",
              "    }\n",
              "\n",
              "    .colab-df-convert:hover {\n",
              "      background-color: #E2EBFA;\n",
              "      box-shadow: 0px 1px 2px rgba(60, 64, 67, 0.3), 0px 1px 3px 1px rgba(60, 64, 67, 0.15);\n",
              "      fill: #174EA6;\n",
              "    }\n",
              "\n",
              "    [theme=dark] .colab-df-convert {\n",
              "      background-color: #3B4455;\n",
              "      fill: #D2E3FC;\n",
              "    }\n",
              "\n",
              "    [theme=dark] .colab-df-convert:hover {\n",
              "      background-color: #434B5C;\n",
              "      box-shadow: 0px 1px 3px 1px rgba(0, 0, 0, 0.15);\n",
              "      filter: drop-shadow(0px 1px 2px rgba(0, 0, 0, 0.3));\n",
              "      fill: #FFFFFF;\n",
              "    }\n",
              "  </style>\n",
              "\n",
              "      <script>\n",
              "        const buttonEl =\n",
              "          document.querySelector('#df-9e2e134c-136c-40b7-b16d-adedf8be7e61 button.colab-df-convert');\n",
              "        buttonEl.style.display =\n",
              "          google.colab.kernel.accessAllowed ? 'block' : 'none';\n",
              "\n",
              "        async function convertToInteractive(key) {\n",
              "          const element = document.querySelector('#df-9e2e134c-136c-40b7-b16d-adedf8be7e61');\n",
              "          const dataTable =\n",
              "            await google.colab.kernel.invokeFunction('convertToInteractive',\n",
              "                                                     [key], {});\n",
              "          if (!dataTable) return;\n",
              "\n",
              "          const docLinkHtml = 'Like what you see? Visit the ' +\n",
              "            '<a target=\"_blank\" href=https://colab.research.google.com/notebooks/data_table.ipynb>data table notebook</a>'\n",
              "            + ' to learn more about interactive tables.';\n",
              "          element.innerHTML = '';\n",
              "          dataTable['output_type'] = 'display_data';\n",
              "          await google.colab.output.renderOutput(dataTable, element);\n",
              "          const docLink = document.createElement('div');\n",
              "          docLink.innerHTML = docLinkHtml;\n",
              "          element.appendChild(docLink);\n",
              "        }\n",
              "      </script>\n",
              "    </div>\n",
              "  </div>\n",
              "  "
            ],
            "text/plain": [
              "                                 Romanlar\n",
              "1                A Scandal in Bohemia! 01\n",
              "2                 The Red-headed League,2\n",
              "3                  A Case, of Identity 33\n",
              "4            The Boscombe Valley Mystery4\n",
              "5                   The Five Orange Pips1\n",
              "6           The Man with? the Twisted Lip\n",
              "7     The Adventure of the Blue Carbuncle\n",
              "8      The Adventure of the Speckled Band\n",
              "9   The Adventure of the Engineer's Thumb\n",
              "10    The Adventure of the Noble Bachelor\n",
              "11     The Adventure of the Beryl Coronet\n",
              "12    The Adventure of the Copper Beeches"
            ]
          },
          "metadata": {},
          "execution_count": 39
        }
      ]
    },
    {
      "cell_type": "markdown",
      "source": [
        "**BÜYÜK-küçük harf dönüşümü**"
      ],
      "metadata": {
        "id": "tfntIdqcmfD0"
      }
    },
    {
      "cell_type": "markdown",
      "source": [
        "Herhangi bir durumda orijinal veriye dönmek veya bir önceki adıma dönmek için çeşitli değişkenlerle step step bir checkpoint oluşturmak faydalı olacaktır."
      ],
      "metadata": {
        "id": "q0SHRIlTnFkM"
      }
    },
    {
      "cell_type": "code",
      "source": [
        "metin_df1 = metin_df.copy()\n",
        "metin_df1"
      ],
      "metadata": {
        "colab": {
          "base_uri": "https://localhost:8080/",
          "height": 426
        },
        "id": "U_brd61omC_R",
        "outputId": "8f01f559-c4c6-40f6-c4ee-18f53ba4602f"
      },
      "execution_count": 40,
      "outputs": [
        {
          "output_type": "execute_result",
          "data": {
            "text/html": [
              "\n",
              "  <div id=\"df-ccfaf4b2-0930-496f-b897-5ab1a768f163\">\n",
              "    <div class=\"colab-df-container\">\n",
              "      <div>\n",
              "<style scoped>\n",
              "    .dataframe tbody tr th:only-of-type {\n",
              "        vertical-align: middle;\n",
              "    }\n",
              "\n",
              "    .dataframe tbody tr th {\n",
              "        vertical-align: top;\n",
              "    }\n",
              "\n",
              "    .dataframe thead th {\n",
              "        text-align: right;\n",
              "    }\n",
              "</style>\n",
              "<table border=\"1\" class=\"dataframe\">\n",
              "  <thead>\n",
              "    <tr style=\"text-align: right;\">\n",
              "      <th></th>\n",
              "      <th>Romanlar</th>\n",
              "    </tr>\n",
              "  </thead>\n",
              "  <tbody>\n",
              "    <tr>\n",
              "      <th>1</th>\n",
              "      <td>A Scandal in Bohemia! 01</td>\n",
              "    </tr>\n",
              "    <tr>\n",
              "      <th>2</th>\n",
              "      <td>The Red-headed League,2</td>\n",
              "    </tr>\n",
              "    <tr>\n",
              "      <th>3</th>\n",
              "      <td>A Case, of Identity 33</td>\n",
              "    </tr>\n",
              "    <tr>\n",
              "      <th>4</th>\n",
              "      <td>The Boscombe Valley Mystery4</td>\n",
              "    </tr>\n",
              "    <tr>\n",
              "      <th>5</th>\n",
              "      <td>The Five Orange Pips1</td>\n",
              "    </tr>\n",
              "    <tr>\n",
              "      <th>6</th>\n",
              "      <td>The Man with? the Twisted Lip</td>\n",
              "    </tr>\n",
              "    <tr>\n",
              "      <th>7</th>\n",
              "      <td>The Adventure of the Blue Carbuncle</td>\n",
              "    </tr>\n",
              "    <tr>\n",
              "      <th>8</th>\n",
              "      <td>The Adventure of the Speckled Band</td>\n",
              "    </tr>\n",
              "    <tr>\n",
              "      <th>9</th>\n",
              "      <td>The Adventure of the Engineer's Thumb</td>\n",
              "    </tr>\n",
              "    <tr>\n",
              "      <th>10</th>\n",
              "      <td>The Adventure of the Noble Bachelor</td>\n",
              "    </tr>\n",
              "    <tr>\n",
              "      <th>11</th>\n",
              "      <td>The Adventure of the Beryl Coronet</td>\n",
              "    </tr>\n",
              "    <tr>\n",
              "      <th>12</th>\n",
              "      <td>The Adventure of the Copper Beeches</td>\n",
              "    </tr>\n",
              "  </tbody>\n",
              "</table>\n",
              "</div>\n",
              "      <button class=\"colab-df-convert\" onclick=\"convertToInteractive('df-ccfaf4b2-0930-496f-b897-5ab1a768f163')\"\n",
              "              title=\"Convert this dataframe to an interactive table.\"\n",
              "              style=\"display:none;\">\n",
              "        \n",
              "  <svg xmlns=\"http://www.w3.org/2000/svg\" height=\"24px\"viewBox=\"0 0 24 24\"\n",
              "       width=\"24px\">\n",
              "    <path d=\"M0 0h24v24H0V0z\" fill=\"none\"/>\n",
              "    <path d=\"M18.56 5.44l.94 2.06.94-2.06 2.06-.94-2.06-.94-.94-2.06-.94 2.06-2.06.94zm-11 1L8.5 8.5l.94-2.06 2.06-.94-2.06-.94L8.5 2.5l-.94 2.06-2.06.94zm10 10l.94 2.06.94-2.06 2.06-.94-2.06-.94-.94-2.06-.94 2.06-2.06.94z\"/><path d=\"M17.41 7.96l-1.37-1.37c-.4-.4-.92-.59-1.43-.59-.52 0-1.04.2-1.43.59L10.3 9.45l-7.72 7.72c-.78.78-.78 2.05 0 2.83L4 21.41c.39.39.9.59 1.41.59.51 0 1.02-.2 1.41-.59l7.78-7.78 2.81-2.81c.8-.78.8-2.07 0-2.86zM5.41 20L4 18.59l7.72-7.72 1.47 1.35L5.41 20z\"/>\n",
              "  </svg>\n",
              "      </button>\n",
              "      \n",
              "  <style>\n",
              "    .colab-df-container {\n",
              "      display:flex;\n",
              "      flex-wrap:wrap;\n",
              "      gap: 12px;\n",
              "    }\n",
              "\n",
              "    .colab-df-convert {\n",
              "      background-color: #E8F0FE;\n",
              "      border: none;\n",
              "      border-radius: 50%;\n",
              "      cursor: pointer;\n",
              "      display: none;\n",
              "      fill: #1967D2;\n",
              "      height: 32px;\n",
              "      padding: 0 0 0 0;\n",
              "      width: 32px;\n",
              "    }\n",
              "\n",
              "    .colab-df-convert:hover {\n",
              "      background-color: #E2EBFA;\n",
              "      box-shadow: 0px 1px 2px rgba(60, 64, 67, 0.3), 0px 1px 3px 1px rgba(60, 64, 67, 0.15);\n",
              "      fill: #174EA6;\n",
              "    }\n",
              "\n",
              "    [theme=dark] .colab-df-convert {\n",
              "      background-color: #3B4455;\n",
              "      fill: #D2E3FC;\n",
              "    }\n",
              "\n",
              "    [theme=dark] .colab-df-convert:hover {\n",
              "      background-color: #434B5C;\n",
              "      box-shadow: 0px 1px 3px 1px rgba(0, 0, 0, 0.15);\n",
              "      filter: drop-shadow(0px 1px 2px rgba(0, 0, 0, 0.3));\n",
              "      fill: #FFFFFF;\n",
              "    }\n",
              "  </style>\n",
              "\n",
              "      <script>\n",
              "        const buttonEl =\n",
              "          document.querySelector('#df-ccfaf4b2-0930-496f-b897-5ab1a768f163 button.colab-df-convert');\n",
              "        buttonEl.style.display =\n",
              "          google.colab.kernel.accessAllowed ? 'block' : 'none';\n",
              "\n",
              "        async function convertToInteractive(key) {\n",
              "          const element = document.querySelector('#df-ccfaf4b2-0930-496f-b897-5ab1a768f163');\n",
              "          const dataTable =\n",
              "            await google.colab.kernel.invokeFunction('convertToInteractive',\n",
              "                                                     [key], {});\n",
              "          if (!dataTable) return;\n",
              "\n",
              "          const docLinkHtml = 'Like what you see? Visit the ' +\n",
              "            '<a target=\"_blank\" href=https://colab.research.google.com/notebooks/data_table.ipynb>data table notebook</a>'\n",
              "            + ' to learn more about interactive tables.';\n",
              "          element.innerHTML = '';\n",
              "          dataTable['output_type'] = 'display_data';\n",
              "          await google.colab.output.renderOutput(dataTable, element);\n",
              "          const docLink = document.createElement('div');\n",
              "          docLink.innerHTML = docLinkHtml;\n",
              "          element.appendChild(docLink);\n",
              "        }\n",
              "      </script>\n",
              "    </div>\n",
              "  </div>\n",
              "  "
            ],
            "text/plain": [
              "                                 Romanlar\n",
              "1                A Scandal in Bohemia! 01\n",
              "2                 The Red-headed League,2\n",
              "3                  A Case, of Identity 33\n",
              "4            The Boscombe Valley Mystery4\n",
              "5                   The Five Orange Pips1\n",
              "6           The Man with? the Twisted Lip\n",
              "7     The Adventure of the Blue Carbuncle\n",
              "8      The Adventure of the Speckled Band\n",
              "9   The Adventure of the Engineer's Thumb\n",
              "10    The Adventure of the Noble Bachelor\n",
              "11     The Adventure of the Beryl Coronet\n",
              "12    The Adventure of the Copper Beeches"
            ]
          },
          "metadata": {},
          "execution_count": 40
        }
      ]
    },
    {
      "cell_type": "code",
      "source": [
        "metin_df1 = metin_df1[\"Romanlar\"].apply(lambda x: \" \".join(x.lower() for x in x.split())) "
      ],
      "metadata": {
        "id": "qASH3mgTnXST"
      },
      "execution_count": 41,
      "outputs": []
    },
    {
      "cell_type": "code",
      "source": [
        "metin_df1"
      ],
      "metadata": {
        "colab": {
          "base_uri": "https://localhost:8080/"
        },
        "id": "ZW_5cXt2ocEu",
        "outputId": "e447dbbe-f3ed-4714-b73e-f4dc0aee9351"
      },
      "execution_count": 42,
      "outputs": [
        {
          "output_type": "execute_result",
          "data": {
            "text/plain": [
              "1                  a scandal in bohemia! 01\n",
              "2                   the red-headed league,2\n",
              "3                    a case, of identity 33\n",
              "4              the boscombe valley mystery4\n",
              "5                     the five orange pips1\n",
              "6             the man with? the twisted lip\n",
              "7       the adventure of the blue carbuncle\n",
              "8        the adventure of the speckled band\n",
              "9     the adventure of the engineer's thumb\n",
              "10      the adventure of the noble bachelor\n",
              "11       the adventure of the beryl coronet\n",
              "12      the adventure of the copper beeches\n",
              "Name: Romanlar, dtype: object"
            ]
          },
          "metadata": {},
          "execution_count": 42
        }
      ]
    },
    {
      "cell_type": "markdown",
      "source": [
        "**Noktalama işaretleri silinmesi**"
      ],
      "metadata": {
        "id": "HQLiSz2EuEqI"
      }
    },
    {
      "cell_type": "code",
      "source": [
        "metin_df1"
      ],
      "metadata": {
        "colab": {
          "base_uri": "https://localhost:8080/"
        },
        "id": "iyEjLrMUuU6S",
        "outputId": "285c4799-eefc-4d0e-dbc5-9c0c6fa8456e"
      },
      "execution_count": 43,
      "outputs": [
        {
          "output_type": "execute_result",
          "data": {
            "text/plain": [
              "1                  a scandal in bohemia! 01\n",
              "2                   the red-headed league,2\n",
              "3                    a case, of identity 33\n",
              "4              the boscombe valley mystery4\n",
              "5                     the five orange pips1\n",
              "6             the man with? the twisted lip\n",
              "7       the adventure of the blue carbuncle\n",
              "8        the adventure of the speckled band\n",
              "9     the adventure of the engineer's thumb\n",
              "10      the adventure of the noble bachelor\n",
              "11       the adventure of the beryl coronet\n",
              "12      the adventure of the copper beeches\n",
              "Name: Romanlar, dtype: object"
            ]
          },
          "metadata": {},
          "execution_count": 43
        }
      ]
    },
    {
      "cell_type": "code",
      "source": [
        "type(metin_df1)"
      ],
      "metadata": {
        "colab": {
          "base_uri": "https://localhost:8080/"
        },
        "id": "oFiYri4tvlt0",
        "outputId": "c8375d06-e2a2-4171-9e37-205bb46dcadc"
      },
      "execution_count": 44,
      "outputs": [
        {
          "output_type": "execute_result",
          "data": {
            "text/plain": [
              "pandas.core.series.Series"
            ]
          },
          "metadata": {},
          "execution_count": 44
        }
      ]
    },
    {
      "cell_type": "code",
      "source": [
        "metin_df1 = metin_df1.str.replace(\"[^\\w\\s]\",\"\")\n",
        "metin_df1"
      ],
      "metadata": {
        "colab": {
          "base_uri": "https://localhost:8080/"
        },
        "id": "-DmhG-ycull8",
        "outputId": "e40f70d7-16f1-4354-a1ba-b5f66d6922d0"
      },
      "execution_count": 45,
      "outputs": [
        {
          "output_type": "execute_result",
          "data": {
            "text/plain": [
              "1                  a scandal in bohemia 01\n",
              "2                    the redheaded league2\n",
              "3                    a case of identity 33\n",
              "4             the boscombe valley mystery4\n",
              "5                    the five orange pips1\n",
              "6             the man with the twisted lip\n",
              "7      the adventure of the blue carbuncle\n",
              "8       the adventure of the speckled band\n",
              "9     the adventure of the engineers thumb\n",
              "10     the adventure of the noble bachelor\n",
              "11      the adventure of the beryl coronet\n",
              "12     the adventure of the copper beeches\n",
              "Name: Romanlar, dtype: object"
            ]
          },
          "metadata": {},
          "execution_count": 45
        }
      ]
    },
    {
      "cell_type": "markdown",
      "source": [
        "Noktalamaları uçurmuş olduk"
      ],
      "metadata": {
        "id": "JTItVmqcvxLs"
      }
    },
    {
      "cell_type": "markdown",
      "source": [
        "**Sayıların Silinmesi**"
      ],
      "metadata": {
        "id": "6roM-y4vv1su"
      }
    },
    {
      "cell_type": "code",
      "source": [
        "metin_df1 =metin_df1.str.replace(\"\\d\",\"\")\n",
        "metin_df1"
      ],
      "metadata": {
        "colab": {
          "base_uri": "https://localhost:8080/"
        },
        "id": "8SyLKRGmvPL8",
        "outputId": "3d6a67f7-9297-4727-bebf-732ec1227b19"
      },
      "execution_count": 46,
      "outputs": [
        {
          "output_type": "execute_result",
          "data": {
            "text/plain": [
              "1                    a scandal in bohemia \n",
              "2                     the redheaded league\n",
              "3                      a case of identity \n",
              "4              the boscombe valley mystery\n",
              "5                     the five orange pips\n",
              "6             the man with the twisted lip\n",
              "7      the adventure of the blue carbuncle\n",
              "8       the adventure of the speckled band\n",
              "9     the adventure of the engineers thumb\n",
              "10     the adventure of the noble bachelor\n",
              "11      the adventure of the beryl coronet\n",
              "12     the adventure of the copper beeches\n",
              "Name: Romanlar, dtype: object"
            ]
          },
          "metadata": {},
          "execution_count": 46
        }
      ]
    },
    {
      "cell_type": "markdown",
      "source": [
        "**Stopwords kaldırılması** : yani durma duraklatma kelimeleri (the gibi ,her dilde farklıdır)"
      ],
      "metadata": {
        "id": "Ogi-2IgMFsIA"
      }
    },
    {
      "cell_type": "code",
      "source": [
        "#gerekli kütüphane\n",
        "!pip install nltk"
      ],
      "metadata": {
        "colab": {
          "base_uri": "https://localhost:8080/"
        },
        "id": "Xy-fV1_ayUwR",
        "outputId": "985b6943-641b-4318-cfe9-2761edfcd100"
      },
      "execution_count": 47,
      "outputs": [
        {
          "output_type": "stream",
          "name": "stdout",
          "text": [
            "Requirement already satisfied: nltk in /usr/local/lib/python3.7/dist-packages (3.2.5)\n",
            "Requirement already satisfied: six in /usr/local/lib/python3.7/dist-packages (from nltk) (1.15.0)\n"
          ]
        }
      ]
    },
    {
      "cell_type": "code",
      "source": [
        "import nltk\n",
        "nltk.download(\"stopwords\")"
      ],
      "metadata": {
        "colab": {
          "base_uri": "https://localhost:8080/"
        },
        "id": "9Awhovi_GDX-",
        "outputId": "4e720792-f552-4728-ab28-8c8d1d6108c7"
      },
      "execution_count": 48,
      "outputs": [
        {
          "output_type": "stream",
          "name": "stdout",
          "text": [
            "[nltk_data] Downloading package stopwords to /root/nltk_data...\n",
            "[nltk_data]   Package stopwords is already up-to-date!\n"
          ]
        },
        {
          "output_type": "execute_result",
          "data": {
            "text/plain": [
              "True"
            ]
          },
          "metadata": {},
          "execution_count": 48
        }
      ]
    },
    {
      "cell_type": "code",
      "source": [
        "from nltk.corpus import stopwords"
      ],
      "metadata": {
        "id": "F2YRKRRfGNYz"
      },
      "execution_count": 49,
      "outputs": []
    },
    {
      "cell_type": "markdown",
      "source": [
        "stopwords leri tanımlayalım ve bakalım neymiş bunlar yuuuav"
      ],
      "metadata": {
        "id": "Q0cEeLBLGfIi"
      }
    },
    {
      "cell_type": "code",
      "source": [
        "sw = stopwords.words(\"english\")\n",
        "sw"
      ],
      "metadata": {
        "colab": {
          "base_uri": "https://localhost:8080/"
        },
        "id": "eOMksZo-GVLj",
        "outputId": "5d372ed2-4828-46f2-f057-a8d27551315c"
      },
      "execution_count": 50,
      "outputs": [
        {
          "output_type": "execute_result",
          "data": {
            "text/plain": [
              "['i',\n",
              " 'me',\n",
              " 'my',\n",
              " 'myself',\n",
              " 'we',\n",
              " 'our',\n",
              " 'ours',\n",
              " 'ourselves',\n",
              " 'you',\n",
              " \"you're\",\n",
              " \"you've\",\n",
              " \"you'll\",\n",
              " \"you'd\",\n",
              " 'your',\n",
              " 'yours',\n",
              " 'yourself',\n",
              " 'yourselves',\n",
              " 'he',\n",
              " 'him',\n",
              " 'his',\n",
              " 'himself',\n",
              " 'she',\n",
              " \"she's\",\n",
              " 'her',\n",
              " 'hers',\n",
              " 'herself',\n",
              " 'it',\n",
              " \"it's\",\n",
              " 'its',\n",
              " 'itself',\n",
              " 'they',\n",
              " 'them',\n",
              " 'their',\n",
              " 'theirs',\n",
              " 'themselves',\n",
              " 'what',\n",
              " 'which',\n",
              " 'who',\n",
              " 'whom',\n",
              " 'this',\n",
              " 'that',\n",
              " \"that'll\",\n",
              " 'these',\n",
              " 'those',\n",
              " 'am',\n",
              " 'is',\n",
              " 'are',\n",
              " 'was',\n",
              " 'were',\n",
              " 'be',\n",
              " 'been',\n",
              " 'being',\n",
              " 'have',\n",
              " 'has',\n",
              " 'had',\n",
              " 'having',\n",
              " 'do',\n",
              " 'does',\n",
              " 'did',\n",
              " 'doing',\n",
              " 'a',\n",
              " 'an',\n",
              " 'the',\n",
              " 'and',\n",
              " 'but',\n",
              " 'if',\n",
              " 'or',\n",
              " 'because',\n",
              " 'as',\n",
              " 'until',\n",
              " 'while',\n",
              " 'of',\n",
              " 'at',\n",
              " 'by',\n",
              " 'for',\n",
              " 'with',\n",
              " 'about',\n",
              " 'against',\n",
              " 'between',\n",
              " 'into',\n",
              " 'through',\n",
              " 'during',\n",
              " 'before',\n",
              " 'after',\n",
              " 'above',\n",
              " 'below',\n",
              " 'to',\n",
              " 'from',\n",
              " 'up',\n",
              " 'down',\n",
              " 'in',\n",
              " 'out',\n",
              " 'on',\n",
              " 'off',\n",
              " 'over',\n",
              " 'under',\n",
              " 'again',\n",
              " 'further',\n",
              " 'then',\n",
              " 'once',\n",
              " 'here',\n",
              " 'there',\n",
              " 'when',\n",
              " 'where',\n",
              " 'why',\n",
              " 'how',\n",
              " 'all',\n",
              " 'any',\n",
              " 'both',\n",
              " 'each',\n",
              " 'few',\n",
              " 'more',\n",
              " 'most',\n",
              " 'other',\n",
              " 'some',\n",
              " 'such',\n",
              " 'no',\n",
              " 'nor',\n",
              " 'not',\n",
              " 'only',\n",
              " 'own',\n",
              " 'same',\n",
              " 'so',\n",
              " 'than',\n",
              " 'too',\n",
              " 'very',\n",
              " 's',\n",
              " 't',\n",
              " 'can',\n",
              " 'will',\n",
              " 'just',\n",
              " 'don',\n",
              " \"don't\",\n",
              " 'should',\n",
              " \"should've\",\n",
              " 'now',\n",
              " 'd',\n",
              " 'll',\n",
              " 'm',\n",
              " 'o',\n",
              " 're',\n",
              " 've',\n",
              " 'y',\n",
              " 'ain',\n",
              " 'aren',\n",
              " \"aren't\",\n",
              " 'couldn',\n",
              " \"couldn't\",\n",
              " 'didn',\n",
              " \"didn't\",\n",
              " 'doesn',\n",
              " \"doesn't\",\n",
              " 'hadn',\n",
              " \"hadn't\",\n",
              " 'hasn',\n",
              " \"hasn't\",\n",
              " 'haven',\n",
              " \"haven't\",\n",
              " 'isn',\n",
              " \"isn't\",\n",
              " 'ma',\n",
              " 'mightn',\n",
              " \"mightn't\",\n",
              " 'mustn',\n",
              " \"mustn't\",\n",
              " 'needn',\n",
              " \"needn't\",\n",
              " 'shan',\n",
              " \"shan't\",\n",
              " 'shouldn',\n",
              " \"shouldn't\",\n",
              " 'wasn',\n",
              " \"wasn't\",\n",
              " 'weren',\n",
              " \"weren't\",\n",
              " 'won',\n",
              " \"won't\",\n",
              " 'wouldn',\n",
              " \"wouldn't\"]"
            ]
          },
          "metadata": {},
          "execution_count": 50
        }
      ]
    },
    {
      "cell_type": "code",
      "source": [
        "metin_df1 = metin_df1.apply(lambda x: \" \".join(x for x in x.split() if x not in sw))"
      ],
      "metadata": {
        "id": "nYzgqKIbGcGs"
      },
      "execution_count": 51,
      "outputs": []
    },
    {
      "cell_type": "code",
      "source": [
        "metin_df1"
      ],
      "metadata": {
        "colab": {
          "base_uri": "https://localhost:8080/"
        },
        "id": "FtGBWyIsHB5Y",
        "outputId": "bde80eb6-43b5-4f47-f8e9-e8f0bbfa9ed9"
      },
      "execution_count": 52,
      "outputs": [
        {
          "output_type": "execute_result",
          "data": {
            "text/plain": [
              "1               scandal bohemia\n",
              "2              redheaded league\n",
              "3                 case identity\n",
              "4       boscombe valley mystery\n",
              "5              five orange pips\n",
              "6               man twisted lip\n",
              "7      adventure blue carbuncle\n",
              "8       adventure speckled band\n",
              "9     adventure engineers thumb\n",
              "10     adventure noble bachelor\n",
              "11      adventure beryl coronet\n",
              "12     adventure copper beeches\n",
              "Name: Romanlar, dtype: object"
            ]
          },
          "metadata": {},
          "execution_count": 52
        }
      ]
    },
    {
      "cell_type": "markdown",
      "source": [
        "**Az geçen kelimeleri silmek** "
      ],
      "metadata": {
        "id": "3yc9VGTRIeA7"
      }
    },
    {
      "cell_type": "code",
      "source": [
        "#önce dataFrame çevirelim\n",
        "metin_df1 = pd.DataFrame(metin_df1, columns = [\"Romanlar\"])"
      ],
      "metadata": {
        "id": "NGhVjOZ4I4F5"
      },
      "execution_count": 55,
      "outputs": []
    },
    {
      "cell_type": "code",
      "source": [
        "pd.Series(\" \".join(metin_df1[\"Romanlar\"]).split()).value_counts()"
      ],
      "metadata": {
        "colab": {
          "base_uri": "https://localhost:8080/"
        },
        "id": "lOGqp9TIHvkA",
        "outputId": "eed26c13-68d9-43c3-f47a-c1f0c731565c"
      },
      "execution_count": 59,
      "outputs": [
        {
          "output_type": "execute_result",
          "data": {
            "text/plain": [
              "adventure    6\n",
              "coronet      1\n",
              "identity     1\n",
              "noble        1\n",
              "league       1\n",
              "engineers    1\n",
              "case         1\n",
              "pips         1\n",
              "band         1\n",
              "copper       1\n",
              "twisted      1\n",
              "bohemia      1\n",
              "lip          1\n",
              "thumb        1\n",
              "five         1\n",
              "speckled     1\n",
              "boscombe     1\n",
              "beeches      1\n",
              "beryl        1\n",
              "valley       1\n",
              "blue         1\n",
              "bachelor     1\n",
              "orange       1\n",
              "scandal      1\n",
              "carbuncle    1\n",
              "man          1\n",
              "mystery      1\n",
              "redheaded    1\n",
              "dtype: int64"
            ]
          },
          "metadata": {},
          "execution_count": 58
        },
        {
          "output_type": "execute_result",
          "data": {
            "text/plain": [
              "adventure    6\n",
              "coronet      1\n",
              "identity     1\n",
              "noble        1\n",
              "league       1\n",
              "engineers    1\n",
              "case         1\n",
              "pips         1\n",
              "band         1\n",
              "copper       1\n",
              "twisted      1\n",
              "bohemia      1\n",
              "lip          1\n",
              "thumb        1\n",
              "five         1\n",
              "speckled     1\n",
              "boscombe     1\n",
              "beeches      1\n",
              "beryl        1\n",
              "valley       1\n",
              "blue         1\n",
              "bachelor     1\n",
              "orange       1\n",
              "scandal      1\n",
              "carbuncle    1\n",
              "man          1\n",
              "mystery      1\n",
              "redheaded    1\n",
              "dtype: int64"
            ]
          },
          "metadata": {},
          "execution_count": 59
        }
      ]
    },
    {
      "cell_type": "code",
      "source": [
        "#silinecek olanları en az olan 3 kelimeyi seçelim\n",
        "silinecek = pd.Series(\" \".join(metin_df1[\"Romanlar\"]).split()).value_counts()[-3:]\n",
        "silinecek"
      ],
      "metadata": {
        "colab": {
          "base_uri": "https://localhost:8080/"
        },
        "id": "gviKFIP6IxeA",
        "outputId": "861a3e9e-1e4f-4fe6-dbd6-bc4dfdf6c086"
      },
      "execution_count": 62,
      "outputs": [
        {
          "output_type": "execute_result",
          "data": {
            "text/plain": [
              "man          1\n",
              "mystery      1\n",
              "redheaded    1\n",
              "dtype: int64"
            ]
          },
          "metadata": {},
          "execution_count": 62
        }
      ]
    },
    {
      "cell_type": "code",
      "source": [
        "#silelim\n",
        "metin_df1 = metin_df1[\"Romanlar\"].apply(lambda x: \" \".join(x for x in x.split() if x not in silinecek))\n",
        "metin_df1 "
      ],
      "metadata": {
        "colab": {
          "base_uri": "https://localhost:8080/"
        },
        "id": "-qeICxCpKrCT",
        "outputId": "23d97cf3-c5bd-41a2-85bb-29c5ec8f6b8c"
      },
      "execution_count": 66,
      "outputs": [
        {
          "output_type": "execute_result",
          "data": {
            "text/plain": [
              "1               scandal bohemia\n",
              "2                        league\n",
              "3                 case identity\n",
              "4               boscombe valley\n",
              "5              five orange pips\n",
              "6                   twisted lip\n",
              "7      adventure blue carbuncle\n",
              "8       adventure speckled band\n",
              "9     adventure engineers thumb\n",
              "10     adventure noble bachelor\n",
              "11      adventure beryl coronet\n",
              "12     adventure copper beeches\n",
              "Name: Romanlar, dtype: object"
            ]
          },
          "metadata": {},
          "execution_count": 66
        }
      ]
    },
    {
      "cell_type": "markdown",
      "source": [
        "**Tokenization** : Cümleyi kelimelere ayırma"
      ],
      "metadata": {
        "id": "vvtI9BrQL0SI"
      }
    },
    {
      "cell_type": "code",
      "source": [
        "nltk.download(\"punkt\")"
      ],
      "metadata": {
        "id": "m-FJjEAILCOs",
        "outputId": "5a43c528-c71c-48f5-f10c-8b304b50c0ee",
        "colab": {
          "base_uri": "https://localhost:8080/"
        }
      },
      "execution_count": 67,
      "outputs": [
        {
          "output_type": "stream",
          "name": "stdout",
          "text": [
            "[nltk_data] Downloading package punkt to /root/nltk_data...\n",
            "[nltk_data]   Unzipping tokenizers/punkt.zip.\n"
          ]
        },
        {
          "output_type": "execute_result",
          "data": {
            "text/plain": [
              "True"
            ]
          },
          "metadata": {},
          "execution_count": 67
        }
      ]
    },
    {
      "cell_type": "code",
      "source": [
        "!pip install textblob"
      ],
      "metadata": {
        "id": "AvfYoG3HMCT_",
        "outputId": "496fccb4-0d2c-4959-ac42-1ae7e249406e",
        "colab": {
          "base_uri": "https://localhost:8080/"
        }
      },
      "execution_count": 68,
      "outputs": [
        {
          "output_type": "stream",
          "name": "stdout",
          "text": [
            "Requirement already satisfied: textblob in /usr/local/lib/python3.7/dist-packages (0.15.3)\n",
            "Requirement already satisfied: nltk>=3.1 in /usr/local/lib/python3.7/dist-packages (from textblob) (3.2.5)\n",
            "Requirement already satisfied: six in /usr/local/lib/python3.7/dist-packages (from nltk>=3.1->textblob) (1.15.0)\n"
          ]
        }
      ]
    },
    {
      "cell_type": "code",
      "source": [
        "import textblob \n",
        "from textblob import TextBlob"
      ],
      "metadata": {
        "id": "34TQTonmMGC7"
      },
      "execution_count": 70,
      "outputs": []
    },
    {
      "cell_type": "code",
      "source": [
        "metin_df1 = pd.DataFrame(metin_df1, columns = [\"Romanlar\"])\n",
        "metin_df1"
      ],
      "metadata": {
        "id": "UMJq3gidMil-",
        "outputId": "61cc6ef2-e689-4365-c5df-55460dc786e3",
        "colab": {
          "base_uri": "https://localhost:8080/",
          "height": 426
        }
      },
      "execution_count": 72,
      "outputs": [
        {
          "output_type": "execute_result",
          "data": {
            "text/html": [
              "\n",
              "  <div id=\"df-bcf6047a-b5dc-48fd-b66e-50b60b8ba9d5\">\n",
              "    <div class=\"colab-df-container\">\n",
              "      <div>\n",
              "<style scoped>\n",
              "    .dataframe tbody tr th:only-of-type {\n",
              "        vertical-align: middle;\n",
              "    }\n",
              "\n",
              "    .dataframe tbody tr th {\n",
              "        vertical-align: top;\n",
              "    }\n",
              "\n",
              "    .dataframe thead th {\n",
              "        text-align: right;\n",
              "    }\n",
              "</style>\n",
              "<table border=\"1\" class=\"dataframe\">\n",
              "  <thead>\n",
              "    <tr style=\"text-align: right;\">\n",
              "      <th></th>\n",
              "      <th>Romanlar</th>\n",
              "    </tr>\n",
              "  </thead>\n",
              "  <tbody>\n",
              "    <tr>\n",
              "      <th>1</th>\n",
              "      <td>scandal bohemia</td>\n",
              "    </tr>\n",
              "    <tr>\n",
              "      <th>2</th>\n",
              "      <td>league</td>\n",
              "    </tr>\n",
              "    <tr>\n",
              "      <th>3</th>\n",
              "      <td>case identity</td>\n",
              "    </tr>\n",
              "    <tr>\n",
              "      <th>4</th>\n",
              "      <td>boscombe valley</td>\n",
              "    </tr>\n",
              "    <tr>\n",
              "      <th>5</th>\n",
              "      <td>five orange pips</td>\n",
              "    </tr>\n",
              "    <tr>\n",
              "      <th>6</th>\n",
              "      <td>twisted lip</td>\n",
              "    </tr>\n",
              "    <tr>\n",
              "      <th>7</th>\n",
              "      <td>adventure blue carbuncle</td>\n",
              "    </tr>\n",
              "    <tr>\n",
              "      <th>8</th>\n",
              "      <td>adventure speckled band</td>\n",
              "    </tr>\n",
              "    <tr>\n",
              "      <th>9</th>\n",
              "      <td>adventure engineers thumb</td>\n",
              "    </tr>\n",
              "    <tr>\n",
              "      <th>10</th>\n",
              "      <td>adventure noble bachelor</td>\n",
              "    </tr>\n",
              "    <tr>\n",
              "      <th>11</th>\n",
              "      <td>adventure beryl coronet</td>\n",
              "    </tr>\n",
              "    <tr>\n",
              "      <th>12</th>\n",
              "      <td>adventure copper beeches</td>\n",
              "    </tr>\n",
              "  </tbody>\n",
              "</table>\n",
              "</div>\n",
              "      <button class=\"colab-df-convert\" onclick=\"convertToInteractive('df-bcf6047a-b5dc-48fd-b66e-50b60b8ba9d5')\"\n",
              "              title=\"Convert this dataframe to an interactive table.\"\n",
              "              style=\"display:none;\">\n",
              "        \n",
              "  <svg xmlns=\"http://www.w3.org/2000/svg\" height=\"24px\"viewBox=\"0 0 24 24\"\n",
              "       width=\"24px\">\n",
              "    <path d=\"M0 0h24v24H0V0z\" fill=\"none\"/>\n",
              "    <path d=\"M18.56 5.44l.94 2.06.94-2.06 2.06-.94-2.06-.94-.94-2.06-.94 2.06-2.06.94zm-11 1L8.5 8.5l.94-2.06 2.06-.94-2.06-.94L8.5 2.5l-.94 2.06-2.06.94zm10 10l.94 2.06.94-2.06 2.06-.94-2.06-.94-.94-2.06-.94 2.06-2.06.94z\"/><path d=\"M17.41 7.96l-1.37-1.37c-.4-.4-.92-.59-1.43-.59-.52 0-1.04.2-1.43.59L10.3 9.45l-7.72 7.72c-.78.78-.78 2.05 0 2.83L4 21.41c.39.39.9.59 1.41.59.51 0 1.02-.2 1.41-.59l7.78-7.78 2.81-2.81c.8-.78.8-2.07 0-2.86zM5.41 20L4 18.59l7.72-7.72 1.47 1.35L5.41 20z\"/>\n",
              "  </svg>\n",
              "      </button>\n",
              "      \n",
              "  <style>\n",
              "    .colab-df-container {\n",
              "      display:flex;\n",
              "      flex-wrap:wrap;\n",
              "      gap: 12px;\n",
              "    }\n",
              "\n",
              "    .colab-df-convert {\n",
              "      background-color: #E8F0FE;\n",
              "      border: none;\n",
              "      border-radius: 50%;\n",
              "      cursor: pointer;\n",
              "      display: none;\n",
              "      fill: #1967D2;\n",
              "      height: 32px;\n",
              "      padding: 0 0 0 0;\n",
              "      width: 32px;\n",
              "    }\n",
              "\n",
              "    .colab-df-convert:hover {\n",
              "      background-color: #E2EBFA;\n",
              "      box-shadow: 0px 1px 2px rgba(60, 64, 67, 0.3), 0px 1px 3px 1px rgba(60, 64, 67, 0.15);\n",
              "      fill: #174EA6;\n",
              "    }\n",
              "\n",
              "    [theme=dark] .colab-df-convert {\n",
              "      background-color: #3B4455;\n",
              "      fill: #D2E3FC;\n",
              "    }\n",
              "\n",
              "    [theme=dark] .colab-df-convert:hover {\n",
              "      background-color: #434B5C;\n",
              "      box-shadow: 0px 1px 3px 1px rgba(0, 0, 0, 0.15);\n",
              "      filter: drop-shadow(0px 1px 2px rgba(0, 0, 0, 0.3));\n",
              "      fill: #FFFFFF;\n",
              "    }\n",
              "  </style>\n",
              "\n",
              "      <script>\n",
              "        const buttonEl =\n",
              "          document.querySelector('#df-bcf6047a-b5dc-48fd-b66e-50b60b8ba9d5 button.colab-df-convert');\n",
              "        buttonEl.style.display =\n",
              "          google.colab.kernel.accessAllowed ? 'block' : 'none';\n",
              "\n",
              "        async function convertToInteractive(key) {\n",
              "          const element = document.querySelector('#df-bcf6047a-b5dc-48fd-b66e-50b60b8ba9d5');\n",
              "          const dataTable =\n",
              "            await google.colab.kernel.invokeFunction('convertToInteractive',\n",
              "                                                     [key], {});\n",
              "          if (!dataTable) return;\n",
              "\n",
              "          const docLinkHtml = 'Like what you see? Visit the ' +\n",
              "            '<a target=\"_blank\" href=https://colab.research.google.com/notebooks/data_table.ipynb>data table notebook</a>'\n",
              "            + ' to learn more about interactive tables.';\n",
              "          element.innerHTML = '';\n",
              "          dataTable['output_type'] = 'display_data';\n",
              "          await google.colab.output.renderOutput(dataTable, element);\n",
              "          const docLink = document.createElement('div');\n",
              "          docLink.innerHTML = docLinkHtml;\n",
              "          element.appendChild(docLink);\n",
              "        }\n",
              "      </script>\n",
              "    </div>\n",
              "  </div>\n",
              "  "
            ],
            "text/plain": [
              "                     Romanlar\n",
              "1             scandal bohemia\n",
              "2                      league\n",
              "3               case identity\n",
              "4             boscombe valley\n",
              "5            five orange pips\n",
              "6                 twisted lip\n",
              "7    adventure blue carbuncle\n",
              "8     adventure speckled band\n",
              "9   adventure engineers thumb\n",
              "10   adventure noble bachelor\n",
              "11    adventure beryl coronet\n",
              "12   adventure copper beeches"
            ]
          },
          "metadata": {},
          "execution_count": 72
        }
      ]
    },
    {
      "cell_type": "code",
      "source": [
        "TextBlob(metin_df1[\"Romanlar\"][1]).words"
      ],
      "metadata": {
        "id": "NktCYh93MKX3",
        "outputId": "06d58b59-7f29-4e84-d85f-b101ab97fe37",
        "colab": {
          "base_uri": "https://localhost:8080/"
        }
      },
      "execution_count": 73,
      "outputs": [
        {
          "output_type": "execute_result",
          "data": {
            "text/plain": [
              "WordList(['scandal', 'bohemia'])"
            ]
          },
          "metadata": {},
          "execution_count": 73
        }
      ]
    },
    {
      "cell_type": "markdown",
      "source": [
        "görüldüğü gibi ilk cümlenin kelimelerini liste şeklinde dönüyor"
      ],
      "metadata": {
        "id": "TbtuVT-6MnBR"
      }
    },
    {
      "cell_type": "code",
      "source": [
        "metin_df1[\"Romanlar\"].apply(lambda x: TextBlob(x).words)"
      ],
      "metadata": {
        "id": "Bu1uj_VWMXKH",
        "outputId": "2591944e-764d-4ff4-9ba7-7c4ce3f5bb04",
        "colab": {
          "base_uri": "https://localhost:8080/"
        }
      },
      "execution_count": 75,
      "outputs": [
        {
          "output_type": "execute_result",
          "data": {
            "text/plain": [
              "1                [scandal, bohemia]\n",
              "2                          [league]\n",
              "3                  [case, identity]\n",
              "4                [boscombe, valley]\n",
              "5              [five, orange, pips]\n",
              "6                    [twisted, lip]\n",
              "7      [adventure, blue, carbuncle]\n",
              "8       [adventure, speckled, band]\n",
              "9     [adventure, engineers, thumb]\n",
              "10     [adventure, noble, bachelor]\n",
              "11      [adventure, beryl, coronet]\n",
              "12     [adventure, copper, beeches]\n",
              "Name: Romanlar, dtype: object"
            ]
          },
          "metadata": {},
          "execution_count": 75
        }
      ]
    },
    {
      "cell_type": "markdown",
      "source": [
        "**Stemming** : kelimeleri köküne indirgemeyi sağlar gözden gözlük gibi "
      ],
      "metadata": {
        "id": "tb8YCkQnM9kD"
      }
    },
    {
      "cell_type": "code",
      "source": [
        "from nltk.stem import PorterStemmer\n",
        "st = PorterStemmer()"
      ],
      "metadata": {
        "id": "zJpJUiaFM2q_"
      },
      "execution_count": 76,
      "outputs": []
    },
    {
      "cell_type": "code",
      "source": [
        "metin_df1"
      ],
      "metadata": {
        "id": "dmtgnystNcrj",
        "outputId": "4c1755be-5958-4366-ebe7-ca6e2734e56f",
        "colab": {
          "base_uri": "https://localhost:8080/",
          "height": 426
        }
      },
      "execution_count": 77,
      "outputs": [
        {
          "output_type": "execute_result",
          "data": {
            "text/html": [
              "\n",
              "  <div id=\"df-817db3e1-f01c-461f-adec-f42f4ed86b1d\">\n",
              "    <div class=\"colab-df-container\">\n",
              "      <div>\n",
              "<style scoped>\n",
              "    .dataframe tbody tr th:only-of-type {\n",
              "        vertical-align: middle;\n",
              "    }\n",
              "\n",
              "    .dataframe tbody tr th {\n",
              "        vertical-align: top;\n",
              "    }\n",
              "\n",
              "    .dataframe thead th {\n",
              "        text-align: right;\n",
              "    }\n",
              "</style>\n",
              "<table border=\"1\" class=\"dataframe\">\n",
              "  <thead>\n",
              "    <tr style=\"text-align: right;\">\n",
              "      <th></th>\n",
              "      <th>Romanlar</th>\n",
              "    </tr>\n",
              "  </thead>\n",
              "  <tbody>\n",
              "    <tr>\n",
              "      <th>1</th>\n",
              "      <td>scandal bohemia</td>\n",
              "    </tr>\n",
              "    <tr>\n",
              "      <th>2</th>\n",
              "      <td>league</td>\n",
              "    </tr>\n",
              "    <tr>\n",
              "      <th>3</th>\n",
              "      <td>case identity</td>\n",
              "    </tr>\n",
              "    <tr>\n",
              "      <th>4</th>\n",
              "      <td>boscombe valley</td>\n",
              "    </tr>\n",
              "    <tr>\n",
              "      <th>5</th>\n",
              "      <td>five orange pips</td>\n",
              "    </tr>\n",
              "    <tr>\n",
              "      <th>6</th>\n",
              "      <td>twisted lip</td>\n",
              "    </tr>\n",
              "    <tr>\n",
              "      <th>7</th>\n",
              "      <td>adventure blue carbuncle</td>\n",
              "    </tr>\n",
              "    <tr>\n",
              "      <th>8</th>\n",
              "      <td>adventure speckled band</td>\n",
              "    </tr>\n",
              "    <tr>\n",
              "      <th>9</th>\n",
              "      <td>adventure engineers thumb</td>\n",
              "    </tr>\n",
              "    <tr>\n",
              "      <th>10</th>\n",
              "      <td>adventure noble bachelor</td>\n",
              "    </tr>\n",
              "    <tr>\n",
              "      <th>11</th>\n",
              "      <td>adventure beryl coronet</td>\n",
              "    </tr>\n",
              "    <tr>\n",
              "      <th>12</th>\n",
              "      <td>adventure copper beeches</td>\n",
              "    </tr>\n",
              "  </tbody>\n",
              "</table>\n",
              "</div>\n",
              "      <button class=\"colab-df-convert\" onclick=\"convertToInteractive('df-817db3e1-f01c-461f-adec-f42f4ed86b1d')\"\n",
              "              title=\"Convert this dataframe to an interactive table.\"\n",
              "              style=\"display:none;\">\n",
              "        \n",
              "  <svg xmlns=\"http://www.w3.org/2000/svg\" height=\"24px\"viewBox=\"0 0 24 24\"\n",
              "       width=\"24px\">\n",
              "    <path d=\"M0 0h24v24H0V0z\" fill=\"none\"/>\n",
              "    <path d=\"M18.56 5.44l.94 2.06.94-2.06 2.06-.94-2.06-.94-.94-2.06-.94 2.06-2.06.94zm-11 1L8.5 8.5l.94-2.06 2.06-.94-2.06-.94L8.5 2.5l-.94 2.06-2.06.94zm10 10l.94 2.06.94-2.06 2.06-.94-2.06-.94-.94-2.06-.94 2.06-2.06.94z\"/><path d=\"M17.41 7.96l-1.37-1.37c-.4-.4-.92-.59-1.43-.59-.52 0-1.04.2-1.43.59L10.3 9.45l-7.72 7.72c-.78.78-.78 2.05 0 2.83L4 21.41c.39.39.9.59 1.41.59.51 0 1.02-.2 1.41-.59l7.78-7.78 2.81-2.81c.8-.78.8-2.07 0-2.86zM5.41 20L4 18.59l7.72-7.72 1.47 1.35L5.41 20z\"/>\n",
              "  </svg>\n",
              "      </button>\n",
              "      \n",
              "  <style>\n",
              "    .colab-df-container {\n",
              "      display:flex;\n",
              "      flex-wrap:wrap;\n",
              "      gap: 12px;\n",
              "    }\n",
              "\n",
              "    .colab-df-convert {\n",
              "      background-color: #E8F0FE;\n",
              "      border: none;\n",
              "      border-radius: 50%;\n",
              "      cursor: pointer;\n",
              "      display: none;\n",
              "      fill: #1967D2;\n",
              "      height: 32px;\n",
              "      padding: 0 0 0 0;\n",
              "      width: 32px;\n",
              "    }\n",
              "\n",
              "    .colab-df-convert:hover {\n",
              "      background-color: #E2EBFA;\n",
              "      box-shadow: 0px 1px 2px rgba(60, 64, 67, 0.3), 0px 1px 3px 1px rgba(60, 64, 67, 0.15);\n",
              "      fill: #174EA6;\n",
              "    }\n",
              "\n",
              "    [theme=dark] .colab-df-convert {\n",
              "      background-color: #3B4455;\n",
              "      fill: #D2E3FC;\n",
              "    }\n",
              "\n",
              "    [theme=dark] .colab-df-convert:hover {\n",
              "      background-color: #434B5C;\n",
              "      box-shadow: 0px 1px 3px 1px rgba(0, 0, 0, 0.15);\n",
              "      filter: drop-shadow(0px 1px 2px rgba(0, 0, 0, 0.3));\n",
              "      fill: #FFFFFF;\n",
              "    }\n",
              "  </style>\n",
              "\n",
              "      <script>\n",
              "        const buttonEl =\n",
              "          document.querySelector('#df-817db3e1-f01c-461f-adec-f42f4ed86b1d button.colab-df-convert');\n",
              "        buttonEl.style.display =\n",
              "          google.colab.kernel.accessAllowed ? 'block' : 'none';\n",
              "\n",
              "        async function convertToInteractive(key) {\n",
              "          const element = document.querySelector('#df-817db3e1-f01c-461f-adec-f42f4ed86b1d');\n",
              "          const dataTable =\n",
              "            await google.colab.kernel.invokeFunction('convertToInteractive',\n",
              "                                                     [key], {});\n",
              "          if (!dataTable) return;\n",
              "\n",
              "          const docLinkHtml = 'Like what you see? Visit the ' +\n",
              "            '<a target=\"_blank\" href=https://colab.research.google.com/notebooks/data_table.ipynb>data table notebook</a>'\n",
              "            + ' to learn more about interactive tables.';\n",
              "          element.innerHTML = '';\n",
              "          dataTable['output_type'] = 'display_data';\n",
              "          await google.colab.output.renderOutput(dataTable, element);\n",
              "          const docLink = document.createElement('div');\n",
              "          docLink.innerHTML = docLinkHtml;\n",
              "          element.appendChild(docLink);\n",
              "        }\n",
              "      </script>\n",
              "    </div>\n",
              "  </div>\n",
              "  "
            ],
            "text/plain": [
              "                     Romanlar\n",
              "1             scandal bohemia\n",
              "2                      league\n",
              "3               case identity\n",
              "4             boscombe valley\n",
              "5            five orange pips\n",
              "6                 twisted lip\n",
              "7    adventure blue carbuncle\n",
              "8     adventure speckled band\n",
              "9   adventure engineers thumb\n",
              "10   adventure noble bachelor\n",
              "11    adventure beryl coronet\n",
              "12   adventure copper beeches"
            ]
          },
          "metadata": {},
          "execution_count": 77
        }
      ]
    },
    {
      "cell_type": "code",
      "source": [
        "metin_df1[\"Romanlar\"].apply(lambda x: \" \".join([st.stem(word) for word in x.split()]))"
      ],
      "metadata": {
        "id": "6k2eN_wHNV0E",
        "outputId": "84045e42-965f-47f3-f89e-8c0946cafe92",
        "colab": {
          "base_uri": "https://localhost:8080/"
        }
      },
      "execution_count": 80,
      "outputs": [
        {
          "output_type": "execute_result",
          "data": {
            "text/plain": [
              "1            scandal bohemia\n",
              "2                      leagu\n",
              "3                 case ident\n",
              "4             boscomb valley\n",
              "5             five orang pip\n",
              "6                  twist lip\n",
              "7     adventur blue carbuncl\n",
              "8       adventur speckl band\n",
              "9       adventur engin thumb\n",
              "10    adventur nobl bachelor\n",
              "11    adventur beryl coronet\n",
              "12     adventur copper beech\n",
              "Name: Romanlar, dtype: object"
            ]
          },
          "metadata": {},
          "execution_count": 80
        }
      ]
    },
    {
      "cell_type": "markdown",
      "source": [
        "görüldüğü gibi bazı ekler gitti fakat bu yöntem çokta fazla sağlıklı değil(adventur) gibi çünkü ek olmayan bazı şeyleri de götürebiliyor bunu araştırmak lazım"
      ],
      "metadata": {
        "id": "x6eNp37yONX6"
      }
    },
    {
      "cell_type": "markdown",
      "source": [
        "**Lemmatization** : benzer işleri yapan bir yöntem daha sağlıklı çalışabilir deneyelim"
      ],
      "metadata": {
        "id": "H_c8tfOwOyaU"
      }
    },
    {
      "cell_type": "code",
      "source": [
        "from textblob import Word\n",
        "nltk.download(\"wordnet\")"
      ],
      "metadata": {
        "id": "YnHvx93aOFKz",
        "outputId": "57d92587-7763-406c-9cc0-41d119398991",
        "colab": {
          "base_uri": "https://localhost:8080/"
        }
      },
      "execution_count": 81,
      "outputs": [
        {
          "output_type": "stream",
          "name": "stdout",
          "text": [
            "[nltk_data] Downloading package wordnet to /root/nltk_data...\n",
            "[nltk_data]   Unzipping corpora/wordnet.zip.\n"
          ]
        },
        {
          "output_type": "execute_result",
          "data": {
            "text/plain": [
              "True"
            ]
          },
          "metadata": {},
          "execution_count": 81
        }
      ]
    },
    {
      "cell_type": "markdown",
      "source": [
        "before"
      ],
      "metadata": {
        "id": "SPCXZSOMPtqZ"
      }
    },
    {
      "cell_type": "code",
      "source": [
        "metin_df1"
      ],
      "metadata": {
        "id": "8OG6vI1pPs6T",
        "outputId": "a54bcdf0-d8e9-40e4-aeeb-faabb3d9ac2d",
        "colab": {
          "base_uri": "https://localhost:8080/",
          "height": 426
        }
      },
      "execution_count": 83,
      "outputs": [
        {
          "output_type": "execute_result",
          "data": {
            "text/html": [
              "\n",
              "  <div id=\"df-d634dcfc-178a-42c8-82df-c7102c7a38ee\">\n",
              "    <div class=\"colab-df-container\">\n",
              "      <div>\n",
              "<style scoped>\n",
              "    .dataframe tbody tr th:only-of-type {\n",
              "        vertical-align: middle;\n",
              "    }\n",
              "\n",
              "    .dataframe tbody tr th {\n",
              "        vertical-align: top;\n",
              "    }\n",
              "\n",
              "    .dataframe thead th {\n",
              "        text-align: right;\n",
              "    }\n",
              "</style>\n",
              "<table border=\"1\" class=\"dataframe\">\n",
              "  <thead>\n",
              "    <tr style=\"text-align: right;\">\n",
              "      <th></th>\n",
              "      <th>Romanlar</th>\n",
              "    </tr>\n",
              "  </thead>\n",
              "  <tbody>\n",
              "    <tr>\n",
              "      <th>1</th>\n",
              "      <td>scandal bohemia</td>\n",
              "    </tr>\n",
              "    <tr>\n",
              "      <th>2</th>\n",
              "      <td>league</td>\n",
              "    </tr>\n",
              "    <tr>\n",
              "      <th>3</th>\n",
              "      <td>case identity</td>\n",
              "    </tr>\n",
              "    <tr>\n",
              "      <th>4</th>\n",
              "      <td>boscombe valley</td>\n",
              "    </tr>\n",
              "    <tr>\n",
              "      <th>5</th>\n",
              "      <td>five orange pips</td>\n",
              "    </tr>\n",
              "    <tr>\n",
              "      <th>6</th>\n",
              "      <td>twisted lip</td>\n",
              "    </tr>\n",
              "    <tr>\n",
              "      <th>7</th>\n",
              "      <td>adventure blue carbuncle</td>\n",
              "    </tr>\n",
              "    <tr>\n",
              "      <th>8</th>\n",
              "      <td>adventure speckled band</td>\n",
              "    </tr>\n",
              "    <tr>\n",
              "      <th>9</th>\n",
              "      <td>adventure engineers thumb</td>\n",
              "    </tr>\n",
              "    <tr>\n",
              "      <th>10</th>\n",
              "      <td>adventure noble bachelor</td>\n",
              "    </tr>\n",
              "    <tr>\n",
              "      <th>11</th>\n",
              "      <td>adventure beryl coronet</td>\n",
              "    </tr>\n",
              "    <tr>\n",
              "      <th>12</th>\n",
              "      <td>adventure copper beeches</td>\n",
              "    </tr>\n",
              "  </tbody>\n",
              "</table>\n",
              "</div>\n",
              "      <button class=\"colab-df-convert\" onclick=\"convertToInteractive('df-d634dcfc-178a-42c8-82df-c7102c7a38ee')\"\n",
              "              title=\"Convert this dataframe to an interactive table.\"\n",
              "              style=\"display:none;\">\n",
              "        \n",
              "  <svg xmlns=\"http://www.w3.org/2000/svg\" height=\"24px\"viewBox=\"0 0 24 24\"\n",
              "       width=\"24px\">\n",
              "    <path d=\"M0 0h24v24H0V0z\" fill=\"none\"/>\n",
              "    <path d=\"M18.56 5.44l.94 2.06.94-2.06 2.06-.94-2.06-.94-.94-2.06-.94 2.06-2.06.94zm-11 1L8.5 8.5l.94-2.06 2.06-.94-2.06-.94L8.5 2.5l-.94 2.06-2.06.94zm10 10l.94 2.06.94-2.06 2.06-.94-2.06-.94-.94-2.06-.94 2.06-2.06.94z\"/><path d=\"M17.41 7.96l-1.37-1.37c-.4-.4-.92-.59-1.43-.59-.52 0-1.04.2-1.43.59L10.3 9.45l-7.72 7.72c-.78.78-.78 2.05 0 2.83L4 21.41c.39.39.9.59 1.41.59.51 0 1.02-.2 1.41-.59l7.78-7.78 2.81-2.81c.8-.78.8-2.07 0-2.86zM5.41 20L4 18.59l7.72-7.72 1.47 1.35L5.41 20z\"/>\n",
              "  </svg>\n",
              "      </button>\n",
              "      \n",
              "  <style>\n",
              "    .colab-df-container {\n",
              "      display:flex;\n",
              "      flex-wrap:wrap;\n",
              "      gap: 12px;\n",
              "    }\n",
              "\n",
              "    .colab-df-convert {\n",
              "      background-color: #E8F0FE;\n",
              "      border: none;\n",
              "      border-radius: 50%;\n",
              "      cursor: pointer;\n",
              "      display: none;\n",
              "      fill: #1967D2;\n",
              "      height: 32px;\n",
              "      padding: 0 0 0 0;\n",
              "      width: 32px;\n",
              "    }\n",
              "\n",
              "    .colab-df-convert:hover {\n",
              "      background-color: #E2EBFA;\n",
              "      box-shadow: 0px 1px 2px rgba(60, 64, 67, 0.3), 0px 1px 3px 1px rgba(60, 64, 67, 0.15);\n",
              "      fill: #174EA6;\n",
              "    }\n",
              "\n",
              "    [theme=dark] .colab-df-convert {\n",
              "      background-color: #3B4455;\n",
              "      fill: #D2E3FC;\n",
              "    }\n",
              "\n",
              "    [theme=dark] .colab-df-convert:hover {\n",
              "      background-color: #434B5C;\n",
              "      box-shadow: 0px 1px 3px 1px rgba(0, 0, 0, 0.15);\n",
              "      filter: drop-shadow(0px 1px 2px rgba(0, 0, 0, 0.3));\n",
              "      fill: #FFFFFF;\n",
              "    }\n",
              "  </style>\n",
              "\n",
              "      <script>\n",
              "        const buttonEl =\n",
              "          document.querySelector('#df-d634dcfc-178a-42c8-82df-c7102c7a38ee button.colab-df-convert');\n",
              "        buttonEl.style.display =\n",
              "          google.colab.kernel.accessAllowed ? 'block' : 'none';\n",
              "\n",
              "        async function convertToInteractive(key) {\n",
              "          const element = document.querySelector('#df-d634dcfc-178a-42c8-82df-c7102c7a38ee');\n",
              "          const dataTable =\n",
              "            await google.colab.kernel.invokeFunction('convertToInteractive',\n",
              "                                                     [key], {});\n",
              "          if (!dataTable) return;\n",
              "\n",
              "          const docLinkHtml = 'Like what you see? Visit the ' +\n",
              "            '<a target=\"_blank\" href=https://colab.research.google.com/notebooks/data_table.ipynb>data table notebook</a>'\n",
              "            + ' to learn more about interactive tables.';\n",
              "          element.innerHTML = '';\n",
              "          dataTable['output_type'] = 'display_data';\n",
              "          await google.colab.output.renderOutput(dataTable, element);\n",
              "          const docLink = document.createElement('div');\n",
              "          docLink.innerHTML = docLinkHtml;\n",
              "          element.appendChild(docLink);\n",
              "        }\n",
              "      </script>\n",
              "    </div>\n",
              "  </div>\n",
              "  "
            ],
            "text/plain": [
              "                     Romanlar\n",
              "1             scandal bohemia\n",
              "2                      league\n",
              "3               case identity\n",
              "4             boscombe valley\n",
              "5            five orange pips\n",
              "6                 twisted lip\n",
              "7    adventure blue carbuncle\n",
              "8     adventure speckled band\n",
              "9   adventure engineers thumb\n",
              "10   adventure noble bachelor\n",
              "11    adventure beryl coronet\n",
              "12   adventure copper beeches"
            ]
          },
          "metadata": {},
          "execution_count": 83
        }
      ]
    },
    {
      "cell_type": "markdown",
      "source": [
        "after"
      ],
      "metadata": {
        "id": "8WpNzNCFP7yG"
      }
    },
    {
      "cell_type": "code",
      "source": [
        "metin_df1 = metin_df1.apply(lambda x: \" \".join([Word(word).lemmatize() for word in x.split()]))\n",
        "metin_df1"
      ],
      "metadata": {
        "id": "BbsWXTyyPQWL",
        "outputId": "3c430dae-52a7-4a88-ef93-6d1ee279d0d5",
        "colab": {
          "base_uri": "https://localhost:8080/"
        }
      },
      "execution_count": 92,
      "outputs": [
        {
          "output_type": "execute_result",
          "data": {
            "text/plain": [
              "1              scandal bohemia\n",
              "2                       league\n",
              "3                case identity\n",
              "4              boscombe valley\n",
              "5              five orange pip\n",
              "6                  twisted lip\n",
              "7     adventure blue carbuncle\n",
              "8      adventure speckled band\n",
              "9     adventure engineer thumb\n",
              "10    adventure noble bachelor\n",
              "11     adventure beryl coronet\n",
              "12      adventure copper beech\n",
              "Name: Romanlar, dtype: object"
            ]
          },
          "metadata": {},
          "execution_count": 92
        }
      ]
    },
    {
      "cell_type": "markdown",
      "source": [
        "bakıldığı zaman kelimeler daha çok korunmuş oldu "
      ],
      "metadata": {
        "id": "QMhl0ABBPng5"
      }
    },
    {
      "cell_type": "markdown",
      "source": [
        "**Sonuç** neydik ne olduk eyyy"
      ],
      "metadata": {
        "id": "YEfVVsgCQChj"
      }
    },
    {
      "cell_type": "code",
      "source": [
        "metin_df"
      ],
      "metadata": {
        "id": "F7LhdwfgPla2",
        "outputId": "2930d3df-e442-4356-8738-8392785ec313",
        "colab": {
          "base_uri": "https://localhost:8080/",
          "height": 426
        }
      },
      "execution_count": 89,
      "outputs": [
        {
          "output_type": "execute_result",
          "data": {
            "text/html": [
              "\n",
              "  <div id=\"df-044acf7b-dc0b-42fc-b522-e2a0b122b8a1\">\n",
              "    <div class=\"colab-df-container\">\n",
              "      <div>\n",
              "<style scoped>\n",
              "    .dataframe tbody tr th:only-of-type {\n",
              "        vertical-align: middle;\n",
              "    }\n",
              "\n",
              "    .dataframe tbody tr th {\n",
              "        vertical-align: top;\n",
              "    }\n",
              "\n",
              "    .dataframe thead th {\n",
              "        text-align: right;\n",
              "    }\n",
              "</style>\n",
              "<table border=\"1\" class=\"dataframe\">\n",
              "  <thead>\n",
              "    <tr style=\"text-align: right;\">\n",
              "      <th></th>\n",
              "      <th>Romanlar</th>\n",
              "    </tr>\n",
              "  </thead>\n",
              "  <tbody>\n",
              "    <tr>\n",
              "      <th>1</th>\n",
              "      <td>A Scandal in Bohemia! 01</td>\n",
              "    </tr>\n",
              "    <tr>\n",
              "      <th>2</th>\n",
              "      <td>The Red-headed League,2</td>\n",
              "    </tr>\n",
              "    <tr>\n",
              "      <th>3</th>\n",
              "      <td>A Case, of Identity 33</td>\n",
              "    </tr>\n",
              "    <tr>\n",
              "      <th>4</th>\n",
              "      <td>The Boscombe Valley Mystery4</td>\n",
              "    </tr>\n",
              "    <tr>\n",
              "      <th>5</th>\n",
              "      <td>The Five Orange Pips1</td>\n",
              "    </tr>\n",
              "    <tr>\n",
              "      <th>6</th>\n",
              "      <td>The Man with? the Twisted Lip</td>\n",
              "    </tr>\n",
              "    <tr>\n",
              "      <th>7</th>\n",
              "      <td>The Adventure of the Blue Carbuncle</td>\n",
              "    </tr>\n",
              "    <tr>\n",
              "      <th>8</th>\n",
              "      <td>The Adventure of the Speckled Band</td>\n",
              "    </tr>\n",
              "    <tr>\n",
              "      <th>9</th>\n",
              "      <td>The Adventure of the Engineer's Thumb</td>\n",
              "    </tr>\n",
              "    <tr>\n",
              "      <th>10</th>\n",
              "      <td>The Adventure of the Noble Bachelor</td>\n",
              "    </tr>\n",
              "    <tr>\n",
              "      <th>11</th>\n",
              "      <td>The Adventure of the Beryl Coronet</td>\n",
              "    </tr>\n",
              "    <tr>\n",
              "      <th>12</th>\n",
              "      <td>The Adventure of the Copper Beeches</td>\n",
              "    </tr>\n",
              "  </tbody>\n",
              "</table>\n",
              "</div>\n",
              "      <button class=\"colab-df-convert\" onclick=\"convertToInteractive('df-044acf7b-dc0b-42fc-b522-e2a0b122b8a1')\"\n",
              "              title=\"Convert this dataframe to an interactive table.\"\n",
              "              style=\"display:none;\">\n",
              "        \n",
              "  <svg xmlns=\"http://www.w3.org/2000/svg\" height=\"24px\"viewBox=\"0 0 24 24\"\n",
              "       width=\"24px\">\n",
              "    <path d=\"M0 0h24v24H0V0z\" fill=\"none\"/>\n",
              "    <path d=\"M18.56 5.44l.94 2.06.94-2.06 2.06-.94-2.06-.94-.94-2.06-.94 2.06-2.06.94zm-11 1L8.5 8.5l.94-2.06 2.06-.94-2.06-.94L8.5 2.5l-.94 2.06-2.06.94zm10 10l.94 2.06.94-2.06 2.06-.94-2.06-.94-.94-2.06-.94 2.06-2.06.94z\"/><path d=\"M17.41 7.96l-1.37-1.37c-.4-.4-.92-.59-1.43-.59-.52 0-1.04.2-1.43.59L10.3 9.45l-7.72 7.72c-.78.78-.78 2.05 0 2.83L4 21.41c.39.39.9.59 1.41.59.51 0 1.02-.2 1.41-.59l7.78-7.78 2.81-2.81c.8-.78.8-2.07 0-2.86zM5.41 20L4 18.59l7.72-7.72 1.47 1.35L5.41 20z\"/>\n",
              "  </svg>\n",
              "      </button>\n",
              "      \n",
              "  <style>\n",
              "    .colab-df-container {\n",
              "      display:flex;\n",
              "      flex-wrap:wrap;\n",
              "      gap: 12px;\n",
              "    }\n",
              "\n",
              "    .colab-df-convert {\n",
              "      background-color: #E8F0FE;\n",
              "      border: none;\n",
              "      border-radius: 50%;\n",
              "      cursor: pointer;\n",
              "      display: none;\n",
              "      fill: #1967D2;\n",
              "      height: 32px;\n",
              "      padding: 0 0 0 0;\n",
              "      width: 32px;\n",
              "    }\n",
              "\n",
              "    .colab-df-convert:hover {\n",
              "      background-color: #E2EBFA;\n",
              "      box-shadow: 0px 1px 2px rgba(60, 64, 67, 0.3), 0px 1px 3px 1px rgba(60, 64, 67, 0.15);\n",
              "      fill: #174EA6;\n",
              "    }\n",
              "\n",
              "    [theme=dark] .colab-df-convert {\n",
              "      background-color: #3B4455;\n",
              "      fill: #D2E3FC;\n",
              "    }\n",
              "\n",
              "    [theme=dark] .colab-df-convert:hover {\n",
              "      background-color: #434B5C;\n",
              "      box-shadow: 0px 1px 3px 1px rgba(0, 0, 0, 0.15);\n",
              "      filter: drop-shadow(0px 1px 2px rgba(0, 0, 0, 0.3));\n",
              "      fill: #FFFFFF;\n",
              "    }\n",
              "  </style>\n",
              "\n",
              "      <script>\n",
              "        const buttonEl =\n",
              "          document.querySelector('#df-044acf7b-dc0b-42fc-b522-e2a0b122b8a1 button.colab-df-convert');\n",
              "        buttonEl.style.display =\n",
              "          google.colab.kernel.accessAllowed ? 'block' : 'none';\n",
              "\n",
              "        async function convertToInteractive(key) {\n",
              "          const element = document.querySelector('#df-044acf7b-dc0b-42fc-b522-e2a0b122b8a1');\n",
              "          const dataTable =\n",
              "            await google.colab.kernel.invokeFunction('convertToInteractive',\n",
              "                                                     [key], {});\n",
              "          if (!dataTable) return;\n",
              "\n",
              "          const docLinkHtml = 'Like what you see? Visit the ' +\n",
              "            '<a target=\"_blank\" href=https://colab.research.google.com/notebooks/data_table.ipynb>data table notebook</a>'\n",
              "            + ' to learn more about interactive tables.';\n",
              "          element.innerHTML = '';\n",
              "          dataTable['output_type'] = 'display_data';\n",
              "          await google.colab.output.renderOutput(dataTable, element);\n",
              "          const docLink = document.createElement('div');\n",
              "          docLink.innerHTML = docLinkHtml;\n",
              "          element.appendChild(docLink);\n",
              "        }\n",
              "      </script>\n",
              "    </div>\n",
              "  </div>\n",
              "  "
            ],
            "text/plain": [
              "                                 Romanlar\n",
              "1                A Scandal in Bohemia! 01\n",
              "2                 The Red-headed League,2\n",
              "3                  A Case, of Identity 33\n",
              "4            The Boscombe Valley Mystery4\n",
              "5                   The Five Orange Pips1\n",
              "6           The Man with? the Twisted Lip\n",
              "7     The Adventure of the Blue Carbuncle\n",
              "8      The Adventure of the Speckled Band\n",
              "9   The Adventure of the Engineer's Thumb\n",
              "10    The Adventure of the Noble Bachelor\n",
              "11     The Adventure of the Beryl Coronet\n",
              "12    The Adventure of the Copper Beeches"
            ]
          },
          "metadata": {},
          "execution_count": 89
        }
      ]
    },
    {
      "cell_type": "code",
      "source": [
        "metin_df1"
      ],
      "metadata": {
        "id": "HLbOehlkQHq9",
        "outputId": "f721f90e-a05a-4dae-9b76-e9e4781456d3",
        "colab": {
          "base_uri": "https://localhost:8080/"
        }
      },
      "execution_count": 93,
      "outputs": [
        {
          "output_type": "execute_result",
          "data": {
            "text/plain": [
              "1              scandal bohemia\n",
              "2                       league\n",
              "3                case identity\n",
              "4              boscombe valley\n",
              "5              five orange pip\n",
              "6                  twisted lip\n",
              "7     adventure blue carbuncle\n",
              "8      adventure speckled band\n",
              "9     adventure engineer thumb\n",
              "10    adventure noble bachelor\n",
              "11     adventure beryl coronet\n",
              "12      adventure copper beech\n",
              "Name: Romanlar, dtype: object"
            ]
          },
          "metadata": {},
          "execution_count": 93
        }
      ]
    }
  ]
}