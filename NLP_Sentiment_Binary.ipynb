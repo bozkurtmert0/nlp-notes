{
  "nbformat": 4,
  "nbformat_minor": 0,
  "metadata": {
    "colab": {
      "name": "NLP_Sentiment_Binary.ipynb",
      "provenance": [],
      "collapsed_sections": []
    },
    "kernelspec": {
      "name": "python3",
      "display_name": "Python 3"
    },
    "language_info": {
      "name": "python"
    },
    "accelerator": "GPU"
  },
  "cells": [
    {
      "cell_type": "code",
      "execution_count": 16,
      "metadata": {
        "id": "EMv2BOuxrANv"
      },
      "outputs": [],
      "source": [
        "from textblob import TextBlob\n",
        "from sklearn import model_selection, preprocessing, linear_model, naive_bayes, metrics\n",
        "from sklearn.feature_extraction.text import TfidfVectorizer, CountVectorizer\n",
        "from sklearn import decomposition, ensemble\n",
        "\n",
        "import pandas, xgboost, numpy, textblob, string\n",
        "from keras.preprocessing import text, sequence\n",
        "from keras import layers, models, optimizers\n",
        "\n",
        "\n",
        "from warnings import filterwarnings\n",
        "filterwarnings('ignore')"
      ]
    },
    {
      "cell_type": "code",
      "source": [
        "import pandas as pd \n",
        "data = pd.read_csv(\"train1.tsv\", sep = \"\\t\")"
      ],
      "metadata": {
        "id": "gWiK5unOrHmy"
      },
      "execution_count": 17,
      "outputs": []
    },
    {
      "cell_type": "code",
      "source": [
        "data.head()"
      ],
      "metadata": {
        "colab": {
          "base_uri": "https://localhost:8080/",
          "height": 206
        },
        "id": "Jzzwuv8crVuw",
        "outputId": "29585752-d74e-403b-a199-1457ba633f1b"
      },
      "execution_count": 18,
      "outputs": [
        {
          "output_type": "execute_result",
          "data": {
            "text/html": [
              "\n",
              "  <div id=\"df-e9e632ad-7580-430e-83fc-6173d9ab5bb6\">\n",
              "    <div class=\"colab-df-container\">\n",
              "      <div>\n",
              "<style scoped>\n",
              "    .dataframe tbody tr th:only-of-type {\n",
              "        vertical-align: middle;\n",
              "    }\n",
              "\n",
              "    .dataframe tbody tr th {\n",
              "        vertical-align: top;\n",
              "    }\n",
              "\n",
              "    .dataframe thead th {\n",
              "        text-align: right;\n",
              "    }\n",
              "</style>\n",
              "<table border=\"1\" class=\"dataframe\">\n",
              "  <thead>\n",
              "    <tr style=\"text-align: right;\">\n",
              "      <th></th>\n",
              "      <th>PhraseId</th>\n",
              "      <th>SentenceId</th>\n",
              "      <th>Phrase</th>\n",
              "      <th>Sentiment</th>\n",
              "    </tr>\n",
              "  </thead>\n",
              "  <tbody>\n",
              "    <tr>\n",
              "      <th>0</th>\n",
              "      <td>1</td>\n",
              "      <td>1</td>\n",
              "      <td>A series of escapades demonstrating the adage ...</td>\n",
              "      <td>1</td>\n",
              "    </tr>\n",
              "    <tr>\n",
              "      <th>1</th>\n",
              "      <td>2</td>\n",
              "      <td>1</td>\n",
              "      <td>A series of escapades demonstrating the adage ...</td>\n",
              "      <td>2</td>\n",
              "    </tr>\n",
              "    <tr>\n",
              "      <th>2</th>\n",
              "      <td>3</td>\n",
              "      <td>1</td>\n",
              "      <td>A series</td>\n",
              "      <td>2</td>\n",
              "    </tr>\n",
              "    <tr>\n",
              "      <th>3</th>\n",
              "      <td>4</td>\n",
              "      <td>1</td>\n",
              "      <td>A</td>\n",
              "      <td>2</td>\n",
              "    </tr>\n",
              "    <tr>\n",
              "      <th>4</th>\n",
              "      <td>5</td>\n",
              "      <td>1</td>\n",
              "      <td>series</td>\n",
              "      <td>2</td>\n",
              "    </tr>\n",
              "  </tbody>\n",
              "</table>\n",
              "</div>\n",
              "      <button class=\"colab-df-convert\" onclick=\"convertToInteractive('df-e9e632ad-7580-430e-83fc-6173d9ab5bb6')\"\n",
              "              title=\"Convert this dataframe to an interactive table.\"\n",
              "              style=\"display:none;\">\n",
              "        \n",
              "  <svg xmlns=\"http://www.w3.org/2000/svg\" height=\"24px\"viewBox=\"0 0 24 24\"\n",
              "       width=\"24px\">\n",
              "    <path d=\"M0 0h24v24H0V0z\" fill=\"none\"/>\n",
              "    <path d=\"M18.56 5.44l.94 2.06.94-2.06 2.06-.94-2.06-.94-.94-2.06-.94 2.06-2.06.94zm-11 1L8.5 8.5l.94-2.06 2.06-.94-2.06-.94L8.5 2.5l-.94 2.06-2.06.94zm10 10l.94 2.06.94-2.06 2.06-.94-2.06-.94-.94-2.06-.94 2.06-2.06.94z\"/><path d=\"M17.41 7.96l-1.37-1.37c-.4-.4-.92-.59-1.43-.59-.52 0-1.04.2-1.43.59L10.3 9.45l-7.72 7.72c-.78.78-.78 2.05 0 2.83L4 21.41c.39.39.9.59 1.41.59.51 0 1.02-.2 1.41-.59l7.78-7.78 2.81-2.81c.8-.78.8-2.07 0-2.86zM5.41 20L4 18.59l7.72-7.72 1.47 1.35L5.41 20z\"/>\n",
              "  </svg>\n",
              "      </button>\n",
              "      \n",
              "  <style>\n",
              "    .colab-df-container {\n",
              "      display:flex;\n",
              "      flex-wrap:wrap;\n",
              "      gap: 12px;\n",
              "    }\n",
              "\n",
              "    .colab-df-convert {\n",
              "      background-color: #E8F0FE;\n",
              "      border: none;\n",
              "      border-radius: 50%;\n",
              "      cursor: pointer;\n",
              "      display: none;\n",
              "      fill: #1967D2;\n",
              "      height: 32px;\n",
              "      padding: 0 0 0 0;\n",
              "      width: 32px;\n",
              "    }\n",
              "\n",
              "    .colab-df-convert:hover {\n",
              "      background-color: #E2EBFA;\n",
              "      box-shadow: 0px 1px 2px rgba(60, 64, 67, 0.3), 0px 1px 3px 1px rgba(60, 64, 67, 0.15);\n",
              "      fill: #174EA6;\n",
              "    }\n",
              "\n",
              "    [theme=dark] .colab-df-convert {\n",
              "      background-color: #3B4455;\n",
              "      fill: #D2E3FC;\n",
              "    }\n",
              "\n",
              "    [theme=dark] .colab-df-convert:hover {\n",
              "      background-color: #434B5C;\n",
              "      box-shadow: 0px 1px 3px 1px rgba(0, 0, 0, 0.15);\n",
              "      filter: drop-shadow(0px 1px 2px rgba(0, 0, 0, 0.3));\n",
              "      fill: #FFFFFF;\n",
              "    }\n",
              "  </style>\n",
              "\n",
              "      <script>\n",
              "        const buttonEl =\n",
              "          document.querySelector('#df-e9e632ad-7580-430e-83fc-6173d9ab5bb6 button.colab-df-convert');\n",
              "        buttonEl.style.display =\n",
              "          google.colab.kernel.accessAllowed ? 'block' : 'none';\n",
              "\n",
              "        async function convertToInteractive(key) {\n",
              "          const element = document.querySelector('#df-e9e632ad-7580-430e-83fc-6173d9ab5bb6');\n",
              "          const dataTable =\n",
              "            await google.colab.kernel.invokeFunction('convertToInteractive',\n",
              "                                                     [key], {});\n",
              "          if (!dataTable) return;\n",
              "\n",
              "          const docLinkHtml = 'Like what you see? Visit the ' +\n",
              "            '<a target=\"_blank\" href=https://colab.research.google.com/notebooks/data_table.ipynb>data table notebook</a>'\n",
              "            + ' to learn more about interactive tables.';\n",
              "          element.innerHTML = '';\n",
              "          dataTable['output_type'] = 'display_data';\n",
              "          await google.colab.output.renderOutput(dataTable, element);\n",
              "          const docLink = document.createElement('div');\n",
              "          docLink.innerHTML = docLinkHtml;\n",
              "          element.appendChild(docLink);\n",
              "        }\n",
              "      </script>\n",
              "    </div>\n",
              "  </div>\n",
              "  "
            ],
            "text/plain": [
              "   PhraseId  ...  Sentiment\n",
              "0         1  ...          1\n",
              "1         2  ...          2\n",
              "2         3  ...          2\n",
              "3         4  ...          2\n",
              "4         5  ...          2\n",
              "\n",
              "[5 rows x 4 columns]"
            ]
          },
          "metadata": {},
          "execution_count": 18
        }
      ]
    },
    {
      "cell_type": "markdown",
      "source": [
        "sentiment kısmındaki 0 ve 1 negatif yorumlar,2 orta düzey,3 ve 4 te pozitif yorumlar"
      ],
      "metadata": {
        "id": "q58ulzaWsHCg"
      }
    },
    {
      "cell_type": "code",
      "source": [
        "data[\"Sentiment\"].replace(0, value = \"negatif\",inplace = True)\n",
        "data[\"Sentiment\"].replace(1, value = \"negatif\",inplace = True)"
      ],
      "metadata": {
        "id": "J8HuMwtCsMi0"
      },
      "execution_count": 19,
      "outputs": []
    },
    {
      "cell_type": "code",
      "source": [
        "data[\"Sentiment\"].replace(3, value = \"pozitif\",inplace = True)\n",
        "data[\"Sentiment\"].replace(4, value = \"pozitif\",inplace = True)"
      ],
      "metadata": {
        "id": "J9rRsoEAsePz"
      },
      "execution_count": 20,
      "outputs": []
    },
    {
      "cell_type": "markdown",
      "source": [
        "2 yani orta kısmı kaldırıp tamamen binary hale getirelim"
      ],
      "metadata": {
        "id": "TEwEXcoSs_r2"
      }
    },
    {
      "cell_type": "code",
      "source": [
        "data = data[(data.Sentiment == \"negatif\") | (data.Sentiment == \"pozitif\")]\n",
        "data.head()"
      ],
      "metadata": {
        "colab": {
          "base_uri": "https://localhost:8080/",
          "height": 206
        },
        "id": "2CXJVSl3sjRn",
        "outputId": "bafa2b5c-635b-432e-bc26-4af6b9169501"
      },
      "execution_count": 21,
      "outputs": [
        {
          "output_type": "execute_result",
          "data": {
            "text/html": [
              "\n",
              "  <div id=\"df-a3702278-ef59-492b-ba5b-76e8916696f5\">\n",
              "    <div class=\"colab-df-container\">\n",
              "      <div>\n",
              "<style scoped>\n",
              "    .dataframe tbody tr th:only-of-type {\n",
              "        vertical-align: middle;\n",
              "    }\n",
              "\n",
              "    .dataframe tbody tr th {\n",
              "        vertical-align: top;\n",
              "    }\n",
              "\n",
              "    .dataframe thead th {\n",
              "        text-align: right;\n",
              "    }\n",
              "</style>\n",
              "<table border=\"1\" class=\"dataframe\">\n",
              "  <thead>\n",
              "    <tr style=\"text-align: right;\">\n",
              "      <th></th>\n",
              "      <th>PhraseId</th>\n",
              "      <th>SentenceId</th>\n",
              "      <th>Phrase</th>\n",
              "      <th>Sentiment</th>\n",
              "    </tr>\n",
              "  </thead>\n",
              "  <tbody>\n",
              "    <tr>\n",
              "      <th>0</th>\n",
              "      <td>1</td>\n",
              "      <td>1</td>\n",
              "      <td>A series of escapades demonstrating the adage ...</td>\n",
              "      <td>negatif</td>\n",
              "    </tr>\n",
              "    <tr>\n",
              "      <th>21</th>\n",
              "      <td>22</td>\n",
              "      <td>1</td>\n",
              "      <td>good for the goose</td>\n",
              "      <td>pozitif</td>\n",
              "    </tr>\n",
              "    <tr>\n",
              "      <th>22</th>\n",
              "      <td>23</td>\n",
              "      <td>1</td>\n",
              "      <td>good</td>\n",
              "      <td>pozitif</td>\n",
              "    </tr>\n",
              "    <tr>\n",
              "      <th>33</th>\n",
              "      <td>34</td>\n",
              "      <td>1</td>\n",
              "      <td>the gander , some of which occasionally amuses...</td>\n",
              "      <td>negatif</td>\n",
              "    </tr>\n",
              "    <tr>\n",
              "      <th>46</th>\n",
              "      <td>47</td>\n",
              "      <td>1</td>\n",
              "      <td>amuses</td>\n",
              "      <td>pozitif</td>\n",
              "    </tr>\n",
              "  </tbody>\n",
              "</table>\n",
              "</div>\n",
              "      <button class=\"colab-df-convert\" onclick=\"convertToInteractive('df-a3702278-ef59-492b-ba5b-76e8916696f5')\"\n",
              "              title=\"Convert this dataframe to an interactive table.\"\n",
              "              style=\"display:none;\">\n",
              "        \n",
              "  <svg xmlns=\"http://www.w3.org/2000/svg\" height=\"24px\"viewBox=\"0 0 24 24\"\n",
              "       width=\"24px\">\n",
              "    <path d=\"M0 0h24v24H0V0z\" fill=\"none\"/>\n",
              "    <path d=\"M18.56 5.44l.94 2.06.94-2.06 2.06-.94-2.06-.94-.94-2.06-.94 2.06-2.06.94zm-11 1L8.5 8.5l.94-2.06 2.06-.94-2.06-.94L8.5 2.5l-.94 2.06-2.06.94zm10 10l.94 2.06.94-2.06 2.06-.94-2.06-.94-.94-2.06-.94 2.06-2.06.94z\"/><path d=\"M17.41 7.96l-1.37-1.37c-.4-.4-.92-.59-1.43-.59-.52 0-1.04.2-1.43.59L10.3 9.45l-7.72 7.72c-.78.78-.78 2.05 0 2.83L4 21.41c.39.39.9.59 1.41.59.51 0 1.02-.2 1.41-.59l7.78-7.78 2.81-2.81c.8-.78.8-2.07 0-2.86zM5.41 20L4 18.59l7.72-7.72 1.47 1.35L5.41 20z\"/>\n",
              "  </svg>\n",
              "      </button>\n",
              "      \n",
              "  <style>\n",
              "    .colab-df-container {\n",
              "      display:flex;\n",
              "      flex-wrap:wrap;\n",
              "      gap: 12px;\n",
              "    }\n",
              "\n",
              "    .colab-df-convert {\n",
              "      background-color: #E8F0FE;\n",
              "      border: none;\n",
              "      border-radius: 50%;\n",
              "      cursor: pointer;\n",
              "      display: none;\n",
              "      fill: #1967D2;\n",
              "      height: 32px;\n",
              "      padding: 0 0 0 0;\n",
              "      width: 32px;\n",
              "    }\n",
              "\n",
              "    .colab-df-convert:hover {\n",
              "      background-color: #E2EBFA;\n",
              "      box-shadow: 0px 1px 2px rgba(60, 64, 67, 0.3), 0px 1px 3px 1px rgba(60, 64, 67, 0.15);\n",
              "      fill: #174EA6;\n",
              "    }\n",
              "\n",
              "    [theme=dark] .colab-df-convert {\n",
              "      background-color: #3B4455;\n",
              "      fill: #D2E3FC;\n",
              "    }\n",
              "\n",
              "    [theme=dark] .colab-df-convert:hover {\n",
              "      background-color: #434B5C;\n",
              "      box-shadow: 0px 1px 3px 1px rgba(0, 0, 0, 0.15);\n",
              "      filter: drop-shadow(0px 1px 2px rgba(0, 0, 0, 0.3));\n",
              "      fill: #FFFFFF;\n",
              "    }\n",
              "  </style>\n",
              "\n",
              "      <script>\n",
              "        const buttonEl =\n",
              "          document.querySelector('#df-a3702278-ef59-492b-ba5b-76e8916696f5 button.colab-df-convert');\n",
              "        buttonEl.style.display =\n",
              "          google.colab.kernel.accessAllowed ? 'block' : 'none';\n",
              "\n",
              "        async function convertToInteractive(key) {\n",
              "          const element = document.querySelector('#df-a3702278-ef59-492b-ba5b-76e8916696f5');\n",
              "          const dataTable =\n",
              "            await google.colab.kernel.invokeFunction('convertToInteractive',\n",
              "                                                     [key], {});\n",
              "          if (!dataTable) return;\n",
              "\n",
              "          const docLinkHtml = 'Like what you see? Visit the ' +\n",
              "            '<a target=\"_blank\" href=https://colab.research.google.com/notebooks/data_table.ipynb>data table notebook</a>'\n",
              "            + ' to learn more about interactive tables.';\n",
              "          element.innerHTML = '';\n",
              "          dataTable['output_type'] = 'display_data';\n",
              "          await google.colab.output.renderOutput(dataTable, element);\n",
              "          const docLink = document.createElement('div');\n",
              "          docLink.innerHTML = docLinkHtml;\n",
              "          element.appendChild(docLink);\n",
              "        }\n",
              "      </script>\n",
              "    </div>\n",
              "  </div>\n",
              "  "
            ],
            "text/plain": [
              "    PhraseId  ...  Sentiment\n",
              "0          1  ...    negatif\n",
              "21        22  ...    pozitif\n",
              "22        23  ...    pozitif\n",
              "33        34  ...    negatif\n",
              "46        47  ...    pozitif\n",
              "\n",
              "[5 rows x 4 columns]"
            ]
          },
          "metadata": {},
          "execution_count": 21
        }
      ]
    },
    {
      "cell_type": "markdown",
      "source": [
        "dağılıma bakalım"
      ],
      "metadata": {
        "id": "qLKKmzJMtMnV"
      }
    },
    {
      "cell_type": "code",
      "source": [
        "data.groupby(\"Sentiment\").count()"
      ],
      "metadata": {
        "colab": {
          "base_uri": "https://localhost:8080/",
          "height": 143
        },
        "id": "5AkfU9yBs1_M",
        "outputId": "dbf52f9c-bf7a-4e14-8cee-e8f90804da9e"
      },
      "execution_count": 22,
      "outputs": [
        {
          "output_type": "execute_result",
          "data": {
            "text/html": [
              "\n",
              "  <div id=\"df-1c26833d-fd7e-494d-a7b4-fbfea3b6617a\">\n",
              "    <div class=\"colab-df-container\">\n",
              "      <div>\n",
              "<style scoped>\n",
              "    .dataframe tbody tr th:only-of-type {\n",
              "        vertical-align: middle;\n",
              "    }\n",
              "\n",
              "    .dataframe tbody tr th {\n",
              "        vertical-align: top;\n",
              "    }\n",
              "\n",
              "    .dataframe thead th {\n",
              "        text-align: right;\n",
              "    }\n",
              "</style>\n",
              "<table border=\"1\" class=\"dataframe\">\n",
              "  <thead>\n",
              "    <tr style=\"text-align: right;\">\n",
              "      <th></th>\n",
              "      <th>PhraseId</th>\n",
              "      <th>SentenceId</th>\n",
              "      <th>Phrase</th>\n",
              "    </tr>\n",
              "    <tr>\n",
              "      <th>Sentiment</th>\n",
              "      <th></th>\n",
              "      <th></th>\n",
              "      <th></th>\n",
              "    </tr>\n",
              "  </thead>\n",
              "  <tbody>\n",
              "    <tr>\n",
              "      <th>negatif</th>\n",
              "      <td>34345</td>\n",
              "      <td>34345</td>\n",
              "      <td>34345</td>\n",
              "    </tr>\n",
              "    <tr>\n",
              "      <th>pozitif</th>\n",
              "      <td>42133</td>\n",
              "      <td>42133</td>\n",
              "      <td>42133</td>\n",
              "    </tr>\n",
              "  </tbody>\n",
              "</table>\n",
              "</div>\n",
              "      <button class=\"colab-df-convert\" onclick=\"convertToInteractive('df-1c26833d-fd7e-494d-a7b4-fbfea3b6617a')\"\n",
              "              title=\"Convert this dataframe to an interactive table.\"\n",
              "              style=\"display:none;\">\n",
              "        \n",
              "  <svg xmlns=\"http://www.w3.org/2000/svg\" height=\"24px\"viewBox=\"0 0 24 24\"\n",
              "       width=\"24px\">\n",
              "    <path d=\"M0 0h24v24H0V0z\" fill=\"none\"/>\n",
              "    <path d=\"M18.56 5.44l.94 2.06.94-2.06 2.06-.94-2.06-.94-.94-2.06-.94 2.06-2.06.94zm-11 1L8.5 8.5l.94-2.06 2.06-.94-2.06-.94L8.5 2.5l-.94 2.06-2.06.94zm10 10l.94 2.06.94-2.06 2.06-.94-2.06-.94-.94-2.06-.94 2.06-2.06.94z\"/><path d=\"M17.41 7.96l-1.37-1.37c-.4-.4-.92-.59-1.43-.59-.52 0-1.04.2-1.43.59L10.3 9.45l-7.72 7.72c-.78.78-.78 2.05 0 2.83L4 21.41c.39.39.9.59 1.41.59.51 0 1.02-.2 1.41-.59l7.78-7.78 2.81-2.81c.8-.78.8-2.07 0-2.86zM5.41 20L4 18.59l7.72-7.72 1.47 1.35L5.41 20z\"/>\n",
              "  </svg>\n",
              "      </button>\n",
              "      \n",
              "  <style>\n",
              "    .colab-df-container {\n",
              "      display:flex;\n",
              "      flex-wrap:wrap;\n",
              "      gap: 12px;\n",
              "    }\n",
              "\n",
              "    .colab-df-convert {\n",
              "      background-color: #E8F0FE;\n",
              "      border: none;\n",
              "      border-radius: 50%;\n",
              "      cursor: pointer;\n",
              "      display: none;\n",
              "      fill: #1967D2;\n",
              "      height: 32px;\n",
              "      padding: 0 0 0 0;\n",
              "      width: 32px;\n",
              "    }\n",
              "\n",
              "    .colab-df-convert:hover {\n",
              "      background-color: #E2EBFA;\n",
              "      box-shadow: 0px 1px 2px rgba(60, 64, 67, 0.3), 0px 1px 3px 1px rgba(60, 64, 67, 0.15);\n",
              "      fill: #174EA6;\n",
              "    }\n",
              "\n",
              "    [theme=dark] .colab-df-convert {\n",
              "      background-color: #3B4455;\n",
              "      fill: #D2E3FC;\n",
              "    }\n",
              "\n",
              "    [theme=dark] .colab-df-convert:hover {\n",
              "      background-color: #434B5C;\n",
              "      box-shadow: 0px 1px 3px 1px rgba(0, 0, 0, 0.15);\n",
              "      filter: drop-shadow(0px 1px 2px rgba(0, 0, 0, 0.3));\n",
              "      fill: #FFFFFF;\n",
              "    }\n",
              "  </style>\n",
              "\n",
              "      <script>\n",
              "        const buttonEl =\n",
              "          document.querySelector('#df-1c26833d-fd7e-494d-a7b4-fbfea3b6617a button.colab-df-convert');\n",
              "        buttonEl.style.display =\n",
              "          google.colab.kernel.accessAllowed ? 'block' : 'none';\n",
              "\n",
              "        async function convertToInteractive(key) {\n",
              "          const element = document.querySelector('#df-1c26833d-fd7e-494d-a7b4-fbfea3b6617a');\n",
              "          const dataTable =\n",
              "            await google.colab.kernel.invokeFunction('convertToInteractive',\n",
              "                                                     [key], {});\n",
              "          if (!dataTable) return;\n",
              "\n",
              "          const docLinkHtml = 'Like what you see? Visit the ' +\n",
              "            '<a target=\"_blank\" href=https://colab.research.google.com/notebooks/data_table.ipynb>data table notebook</a>'\n",
              "            + ' to learn more about interactive tables.';\n",
              "          element.innerHTML = '';\n",
              "          dataTable['output_type'] = 'display_data';\n",
              "          await google.colab.output.renderOutput(dataTable, element);\n",
              "          const docLink = document.createElement('div');\n",
              "          docLink.innerHTML = docLinkHtml;\n",
              "          element.appendChild(docLink);\n",
              "        }\n",
              "      </script>\n",
              "    </div>\n",
              "  </div>\n",
              "  "
            ],
            "text/plain": [
              "           PhraseId  SentenceId  Phrase\n",
              "Sentiment                              \n",
              "negatif       34345       34345   34345\n",
              "pozitif       42133       42133   42133"
            ]
          },
          "metadata": {},
          "execution_count": 22
        }
      ]
    },
    {
      "cell_type": "markdown",
      "source": [
        "daha uygun şekilde değiştirelim ve anlaşılır hale getirelim\n"
      ],
      "metadata": {
        "id": "H--nb7rwtdgN"
      }
    },
    {
      "cell_type": "code",
      "source": [
        "df = pd.DataFrame()\n",
        "df[\"text\"] = data[\"Phrase\"]\n",
        "df[\"label\"] = data[\"Sentiment\"]"
      ],
      "metadata": {
        "id": "evp89JEDtYDw"
      },
      "execution_count": 23,
      "outputs": []
    },
    {
      "cell_type": "markdown",
      "source": [
        "Metin önişleme işlemlerini gerçekleştirelim"
      ],
      "metadata": {
        "id": "6R2CjYxrtiul"
      }
    },
    {
      "cell_type": "code",
      "source": [
        "#buyuk-kucuk donusumu\n",
        "df['text'] = df['text'].apply(lambda x: \" \".join(x.lower() for x in x.split()))\n",
        "#noktalama işaretleri\n",
        "df['text'] = df['text'].str.replace('[^\\w\\s]','')\n",
        "#sayılar\n",
        "df['text'] = df['text'].str.replace('\\d','')\n",
        "#stopwords\n",
        "import nltk\n",
        "nltk.download('stopwords')\n",
        "from nltk.corpus import stopwords\n",
        "sw = stopwords.words('english')\n",
        "df['text'] = df['text'].apply(lambda x: \" \".join(x for x in x.split() if x not in sw))\n",
        "#seyreklerin silinmesi\n",
        "sil = pd.Series(' '.join(df['text']).split()).value_counts()[-1000:]\n",
        "df['text'] = df['text'].apply(lambda x: \" \".join(x for x in x.split() if x not in sil))\n",
        "#lemmi\n",
        "from textblob import Word\n",
        "nltk.download('wordnet')\n",
        "df['text'] = df['text'].apply(lambda x: \" \".join([Word(word).lemmatize() for word in x.split()])) "
      ],
      "metadata": {
        "colab": {
          "base_uri": "https://localhost:8080/"
        },
        "id": "LAlllZhTtLGO",
        "outputId": "b7bc4d5d-c9d1-4f56-bccc-99649e2db317"
      },
      "execution_count": 24,
      "outputs": [
        {
          "output_type": "stream",
          "name": "stdout",
          "text": [
            "[nltk_data] Downloading package stopwords to /root/nltk_data...\n",
            "[nltk_data]   Package stopwords is already up-to-date!\n",
            "[nltk_data] Downloading package wordnet to /root/nltk_data...\n",
            "[nltk_data]   Package wordnet is already up-to-date!\n"
          ]
        }
      ]
    },
    {
      "cell_type": "markdown",
      "source": [
        "**Özellik Çıkarımı**"
      ],
      "metadata": {
        "id": "3zqqgMp3t_0H"
      }
    },
    {
      "cell_type": "markdown",
      "source": [
        "* Count Vectors \n",
        "* TF-IDF Vectors(words, characters, n-grams)\n",
        "* Word embedding"
      ],
      "metadata": {
        "id": "0D11J44VuNW_"
      }
    },
    {
      "cell_type": "code",
      "source": [
        "df.head()"
      ],
      "metadata": {
        "colab": {
          "base_uri": "https://localhost:8080/",
          "height": 206
        },
        "id": "j6vxygAatn32",
        "outputId": "1e37610b-e03d-4b8e-ea0a-657f117b8a79"
      },
      "execution_count": 25,
      "outputs": [
        {
          "output_type": "execute_result",
          "data": {
            "text/html": [
              "\n",
              "  <div id=\"df-9477db5b-ac52-4402-9b70-4f131716feae\">\n",
              "    <div class=\"colab-df-container\">\n",
              "      <div>\n",
              "<style scoped>\n",
              "    .dataframe tbody tr th:only-of-type {\n",
              "        vertical-align: middle;\n",
              "    }\n",
              "\n",
              "    .dataframe tbody tr th {\n",
              "        vertical-align: top;\n",
              "    }\n",
              "\n",
              "    .dataframe thead th {\n",
              "        text-align: right;\n",
              "    }\n",
              "</style>\n",
              "<table border=\"1\" class=\"dataframe\">\n",
              "  <thead>\n",
              "    <tr style=\"text-align: right;\">\n",
              "      <th></th>\n",
              "      <th>text</th>\n",
              "      <th>label</th>\n",
              "    </tr>\n",
              "  </thead>\n",
              "  <tbody>\n",
              "    <tr>\n",
              "      <th>0</th>\n",
              "      <td>series demonstrating adage good goose also goo...</td>\n",
              "      <td>negatif</td>\n",
              "    </tr>\n",
              "    <tr>\n",
              "      <th>21</th>\n",
              "      <td>good goose</td>\n",
              "      <td>pozitif</td>\n",
              "    </tr>\n",
              "    <tr>\n",
              "      <th>22</th>\n",
              "      <td>good</td>\n",
              "      <td>pozitif</td>\n",
              "    </tr>\n",
              "    <tr>\n",
              "      <th>33</th>\n",
              "      <td>gander occasionally amuses none amount much story</td>\n",
              "      <td>negatif</td>\n",
              "    </tr>\n",
              "    <tr>\n",
              "      <th>46</th>\n",
              "      <td>amuses</td>\n",
              "      <td>pozitif</td>\n",
              "    </tr>\n",
              "  </tbody>\n",
              "</table>\n",
              "</div>\n",
              "      <button class=\"colab-df-convert\" onclick=\"convertToInteractive('df-9477db5b-ac52-4402-9b70-4f131716feae')\"\n",
              "              title=\"Convert this dataframe to an interactive table.\"\n",
              "              style=\"display:none;\">\n",
              "        \n",
              "  <svg xmlns=\"http://www.w3.org/2000/svg\" height=\"24px\"viewBox=\"0 0 24 24\"\n",
              "       width=\"24px\">\n",
              "    <path d=\"M0 0h24v24H0V0z\" fill=\"none\"/>\n",
              "    <path d=\"M18.56 5.44l.94 2.06.94-2.06 2.06-.94-2.06-.94-.94-2.06-.94 2.06-2.06.94zm-11 1L8.5 8.5l.94-2.06 2.06-.94-2.06-.94L8.5 2.5l-.94 2.06-2.06.94zm10 10l.94 2.06.94-2.06 2.06-.94-2.06-.94-.94-2.06-.94 2.06-2.06.94z\"/><path d=\"M17.41 7.96l-1.37-1.37c-.4-.4-.92-.59-1.43-.59-.52 0-1.04.2-1.43.59L10.3 9.45l-7.72 7.72c-.78.78-.78 2.05 0 2.83L4 21.41c.39.39.9.59 1.41.59.51 0 1.02-.2 1.41-.59l7.78-7.78 2.81-2.81c.8-.78.8-2.07 0-2.86zM5.41 20L4 18.59l7.72-7.72 1.47 1.35L5.41 20z\"/>\n",
              "  </svg>\n",
              "      </button>\n",
              "      \n",
              "  <style>\n",
              "    .colab-df-container {\n",
              "      display:flex;\n",
              "      flex-wrap:wrap;\n",
              "      gap: 12px;\n",
              "    }\n",
              "\n",
              "    .colab-df-convert {\n",
              "      background-color: #E8F0FE;\n",
              "      border: none;\n",
              "      border-radius: 50%;\n",
              "      cursor: pointer;\n",
              "      display: none;\n",
              "      fill: #1967D2;\n",
              "      height: 32px;\n",
              "      padding: 0 0 0 0;\n",
              "      width: 32px;\n",
              "    }\n",
              "\n",
              "    .colab-df-convert:hover {\n",
              "      background-color: #E2EBFA;\n",
              "      box-shadow: 0px 1px 2px rgba(60, 64, 67, 0.3), 0px 1px 3px 1px rgba(60, 64, 67, 0.15);\n",
              "      fill: #174EA6;\n",
              "    }\n",
              "\n",
              "    [theme=dark] .colab-df-convert {\n",
              "      background-color: #3B4455;\n",
              "      fill: #D2E3FC;\n",
              "    }\n",
              "\n",
              "    [theme=dark] .colab-df-convert:hover {\n",
              "      background-color: #434B5C;\n",
              "      box-shadow: 0px 1px 3px 1px rgba(0, 0, 0, 0.15);\n",
              "      filter: drop-shadow(0px 1px 2px rgba(0, 0, 0, 0.3));\n",
              "      fill: #FFFFFF;\n",
              "    }\n",
              "  </style>\n",
              "\n",
              "      <script>\n",
              "        const buttonEl =\n",
              "          document.querySelector('#df-9477db5b-ac52-4402-9b70-4f131716feae button.colab-df-convert');\n",
              "        buttonEl.style.display =\n",
              "          google.colab.kernel.accessAllowed ? 'block' : 'none';\n",
              "\n",
              "        async function convertToInteractive(key) {\n",
              "          const element = document.querySelector('#df-9477db5b-ac52-4402-9b70-4f131716feae');\n",
              "          const dataTable =\n",
              "            await google.colab.kernel.invokeFunction('convertToInteractive',\n",
              "                                                     [key], {});\n",
              "          if (!dataTable) return;\n",
              "\n",
              "          const docLinkHtml = 'Like what you see? Visit the ' +\n",
              "            '<a target=\"_blank\" href=https://colab.research.google.com/notebooks/data_table.ipynb>data table notebook</a>'\n",
              "            + ' to learn more about interactive tables.';\n",
              "          element.innerHTML = '';\n",
              "          dataTable['output_type'] = 'display_data';\n",
              "          await google.colab.output.renderOutput(dataTable, element);\n",
              "          const docLink = document.createElement('div');\n",
              "          docLink.innerHTML = docLinkHtml;\n",
              "          element.appendChild(docLink);\n",
              "        }\n",
              "      </script>\n",
              "    </div>\n",
              "  </div>\n",
              "  "
            ],
            "text/plain": [
              "                                                 text    label\n",
              "0   series demonstrating adage good goose also goo...  negatif\n",
              "21                                         good goose  pozitif\n",
              "22                                               good  pozitif\n",
              "33  gander occasionally amuses none amount much story  negatif\n",
              "46                                             amuses  pozitif"
            ]
          },
          "metadata": {},
          "execution_count": 25
        }
      ]
    },
    {
      "cell_type": "markdown",
      "source": [
        "**test train olarak ayıralım**"
      ],
      "metadata": {
        "id": "5K_AtdfOv6BK"
      }
    },
    {
      "cell_type": "code",
      "source": [
        "train_x, test_x, train_y, test_y = model_selection.train_test_split(df[\"text\"],\n",
        "                                                                     df[\"label\"])"
      ],
      "metadata": {
        "id": "YOwDwBBkuJ6Y"
      },
      "execution_count": 26,
      "outputs": []
    },
    {
      "cell_type": "markdown",
      "source": [
        "labellarımızı numerik hale getirelim"
      ],
      "metadata": {
        "id": "tkh7b9wmw1F1"
      }
    },
    {
      "cell_type": "code",
      "source": [
        "encoder = preprocessing.LabelEncoder()"
      ],
      "metadata": {
        "id": "kRkIxHPxwMQw"
      },
      "execution_count": 27,
      "outputs": []
    },
    {
      "cell_type": "code",
      "source": [
        "train_y[0:10]"
      ],
      "metadata": {
        "colab": {
          "base_uri": "https://localhost:8080/"
        },
        "id": "rR1NCyhLws8G",
        "outputId": "c2f0162d-53d0-4bbd-aff9-8a7a5ef1ca48"
      },
      "execution_count": 28,
      "outputs": [
        {
          "output_type": "execute_result",
          "data": {
            "text/plain": [
              "48492     pozitif\n",
              "95922     pozitif\n",
              "54821     negatif\n",
              "24263     pozitif\n",
              "91861     negatif\n",
              "106265    pozitif\n",
              "29327     negatif\n",
              "134244    pozitif\n",
              "86758     pozitif\n",
              "10921     pozitif\n",
              "Name: label, dtype: object"
            ]
          },
          "metadata": {},
          "execution_count": 28
        }
      ]
    },
    {
      "cell_type": "code",
      "source": [
        "train_y = encoder.fit_transform(train_y)\n",
        "test_y = encoder.fit_transform(test_y)"
      ],
      "metadata": {
        "id": "iKWNkGSpwToj"
      },
      "execution_count": 29,
      "outputs": []
    },
    {
      "cell_type": "code",
      "source": [
        "train_y[0:10]"
      ],
      "metadata": {
        "colab": {
          "base_uri": "https://localhost:8080/"
        },
        "id": "LXmNc7BywhDS",
        "outputId": "c770b52c-0929-4942-d977-d3d198e29182"
      },
      "execution_count": 30,
      "outputs": [
        {
          "output_type": "execute_result",
          "data": {
            "text/plain": [
              "array([1, 1, 0, 1, 0, 1, 0, 1, 1, 1])"
            ]
          },
          "metadata": {},
          "execution_count": 30
        }
      ]
    },
    {
      "cell_type": "markdown",
      "source": [
        "**Count Vectors**"
      ],
      "metadata": {
        "id": "fw1VbW6Pw_21"
      }
    },
    {
      "cell_type": "markdown",
      "source": [
        "her satırın içerdiği kelimelerin bir bulunma frekansı vardır, kelimenin varlığına göre 0 ve 1 den oluşan bir array oluşur."
      ],
      "metadata": {
        "id": "EHbI9ZXsx4dN"
      }
    },
    {
      "cell_type": "code",
      "source": [
        "vectorizer = CountVectorizer()\n",
        "vectorizer.fit(train_x)"
      ],
      "metadata": {
        "colab": {
          "base_uri": "https://localhost:8080/"
        },
        "id": "Qzz4bVqUwjjc",
        "outputId": "81c16f1a-4214-40c7-f156-c45a3a0403e8"
      },
      "execution_count": 31,
      "outputs": [
        {
          "output_type": "execute_result",
          "data": {
            "text/plain": [
              "CountVectorizer()"
            ]
          },
          "metadata": {},
          "execution_count": 31
        }
      ]
    },
    {
      "cell_type": "code",
      "source": [
        "x_train_count = vectorizer.transform(train_x)\n",
        "x_test_count = vectorizer.transform(test_x)"
      ],
      "metadata": {
        "id": "0-1Iz1FMxKZw"
      },
      "execution_count": 32,
      "outputs": []
    },
    {
      "cell_type": "markdown",
      "source": [
        "bakalım buna bi"
      ],
      "metadata": {
        "id": "Ve4ficlHxiYR"
      }
    },
    {
      "cell_type": "code",
      "source": [
        "vectorizer.get_feature_names()[0:10]"
      ],
      "metadata": {
        "colab": {
          "base_uri": "https://localhost:8080/"
        },
        "id": "lEO_LpF0xZVj",
        "outputId": "81f02928-1f85-4d4d-f854-3652d3c78355"
      },
      "execution_count": 33,
      "outputs": [
        {
          "output_type": "execute_result",
          "data": {
            "text/plain": [
              "['aaa',\n",
              " 'aaliyah',\n",
              " 'abagnale',\n",
              " 'abandon',\n",
              " 'abandoned',\n",
              " 'abbass',\n",
              " 'abbott',\n",
              " 'abbreviated',\n",
              " 'abc',\n",
              " 'abdul']"
            ]
          },
          "metadata": {},
          "execution_count": 33
        }
      ]
    },
    {
      "cell_type": "markdown",
      "source": [
        "arrayimize bakalım"
      ],
      "metadata": {
        "id": "_dnFoHy3yJcf"
      }
    },
    {
      "cell_type": "code",
      "source": [
        "x_train_count.toarray()"
      ],
      "metadata": {
        "colab": {
          "base_uri": "https://localhost:8080/"
        },
        "id": "1Dkwl1iixoRO",
        "outputId": "0122990b-dafb-407b-9a0d-735d58d3c52f"
      },
      "execution_count": 34,
      "outputs": [
        {
          "output_type": "execute_result",
          "data": {
            "text/plain": [
              "array([[0, 0, 0, ..., 0, 0, 0],\n",
              "       [0, 0, 0, ..., 0, 0, 0],\n",
              "       [0, 0, 0, ..., 0, 0, 0],\n",
              "       ...,\n",
              "       [0, 0, 0, ..., 0, 0, 0],\n",
              "       [0, 0, 0, ..., 0, 0, 0],\n",
              "       [0, 0, 0, ..., 0, 0, 0]])"
            ]
          },
          "metadata": {},
          "execution_count": 34
        }
      ]
    },
    {
      "cell_type": "markdown",
      "source": [
        "**TF-IDF**"
      ],
      "metadata": {
        "id": "HYXLd5yC2CLI"
      }
    },
    {
      "cell_type": "markdown",
      "source": [
        "WordLevel"
      ],
      "metadata": {
        "id": "fpJJBH505-fG"
      }
    },
    {
      "cell_type": "code",
      "source": [
        "tf_idf_word_vectorizer = TfidfVectorizer()\n",
        "tf_idf_word_vectorizer.fit(train_x)"
      ],
      "metadata": {
        "colab": {
          "base_uri": "https://localhost:8080/"
        },
        "id": "nYYFJbFFx01J",
        "outputId": "5084a15f-519e-4c26-939b-a083aa0da815"
      },
      "execution_count": 35,
      "outputs": [
        {
          "output_type": "execute_result",
          "data": {
            "text/plain": [
              "TfidfVectorizer()"
            ]
          },
          "metadata": {},
          "execution_count": 35
        }
      ]
    },
    {
      "cell_type": "code",
      "source": [
        "x_train_tf_idf_word = tf_idf_word_vectorizer.transform(train_x)\n",
        "x_test_tf_idf_word = tf_idf_word_vectorizer.transform(test_x)"
      ],
      "metadata": {
        "id": "xEU7PirL2Nz1"
      },
      "execution_count": 36,
      "outputs": []
    },
    {
      "cell_type": "code",
      "source": [
        "tf_idf_word_vectorizer.get_feature_names()[0:10]"
      ],
      "metadata": {
        "colab": {
          "base_uri": "https://localhost:8080/"
        },
        "id": "bOhHvv1m3byn",
        "outputId": "8ebae352-6354-43e8-f8fa-58dca0e82298"
      },
      "execution_count": 37,
      "outputs": [
        {
          "output_type": "execute_result",
          "data": {
            "text/plain": [
              "['aaa',\n",
              " 'aaliyah',\n",
              " 'abagnale',\n",
              " 'abandon',\n",
              " 'abandoned',\n",
              " 'abbass',\n",
              " 'abbott',\n",
              " 'abbreviated',\n",
              " 'abc',\n",
              " 'abdul']"
            ]
          },
          "metadata": {},
          "execution_count": 37
        }
      ]
    },
    {
      "cell_type": "markdown",
      "source": [
        "**N-Gram Level**"
      ],
      "metadata": {
        "id": "KyalhQH06DjY"
      }
    },
    {
      "cell_type": "code",
      "source": [
        "tf_idf_ngram_vectorizer = TfidfVectorizer(ngram_range=(2,3))\n",
        "tf_idf_ngram_vectorizer.fit(train_x)"
      ],
      "metadata": {
        "colab": {
          "base_uri": "https://localhost:8080/"
        },
        "id": "3fa2i84A5yLX",
        "outputId": "9b6dbab5-72ed-4034-99dd-7ee33bff5ac6"
      },
      "execution_count": 38,
      "outputs": [
        {
          "output_type": "execute_result",
          "data": {
            "text/plain": [
              "TfidfVectorizer(ngram_range=(2, 3))"
            ]
          },
          "metadata": {},
          "execution_count": 38
        }
      ]
    },
    {
      "cell_type": "code",
      "source": [
        "x_train_tf_idf_ngram = tf_idf_ngram_vectorizer.transform(train_x)\n",
        "x_test_tf_idf_ngram = tf_idf_ngram_vectorizer.transform(test_x)"
      ],
      "metadata": {
        "id": "utmTkyeQ6Xv7"
      },
      "execution_count": 39,
      "outputs": []
    },
    {
      "cell_type": "markdown",
      "source": [
        "**Characters Level**"
      ],
      "metadata": {
        "id": "eZ1-vU5C6pEN"
      }
    },
    {
      "cell_type": "code",
      "source": [
        "tf_idf_ngram_chars_vectorizer = TfidfVectorizer(analyzer=\"char\", ngram_range=(2,3))\n",
        "tf_idf_ngram_chars_vectorizer.fit(train_x)"
      ],
      "metadata": {
        "colab": {
          "base_uri": "https://localhost:8080/"
        },
        "id": "Q_qYa0wP6oon",
        "outputId": "a9de90ec-0ea1-4a5e-c2f1-967d8af0eeb3"
      },
      "execution_count": 40,
      "outputs": [
        {
          "output_type": "execute_result",
          "data": {
            "text/plain": [
              "TfidfVectorizer(analyzer='char', ngram_range=(2, 3))"
            ]
          },
          "metadata": {},
          "execution_count": 40
        }
      ]
    },
    {
      "cell_type": "code",
      "source": [
        "x_train_tf_idf_chars = tf_idf_ngram_chars_vectorizer.transform(train_x)\n",
        "x_test_tf_idf_chars = tf_idf_ngram_chars_vectorizer.transform(test_x)"
      ],
      "metadata": {
        "id": "7WSGnPXe8NVh"
      },
      "execution_count": 41,
      "outputs": []
    },
    {
      "cell_type": "markdown",
      "source": [
        "## **Sentiment Sınıflandırması**"
      ],
      "metadata": {
        "id": "uFEre6m_9t7W"
      }
    },
    {
      "cell_type": "markdown",
      "source": [
        "### Lojistik Regresyon"
      ],
      "metadata": {
        "id": "hlbIWmhp973m"
      }
    },
    {
      "cell_type": "code",
      "source": [
        "loj = linear_model.LogisticRegression()\n",
        "loj_model = loj.fit(x_train_count, train_y)\n",
        "accuracy = model_selection.cross_val_score(loj_model, \n",
        "                                           x_test_count, \n",
        "                                           test_y, \n",
        "                                           cv = 10).mean()\n",
        "\n",
        "print(\"Count Vectors Doğruluk Oranı:\", accuracy)"
      ],
      "metadata": {
        "colab": {
          "base_uri": "https://localhost:8080/"
        },
        "id": "KPt63t3y9wSH",
        "outputId": "e64b27b9-a6c7-4a8f-8266-4efa99a09341"
      },
      "execution_count": 42,
      "outputs": [
        {
          "output_type": "stream",
          "name": "stdout",
          "text": [
            "Count Vectors Doğruluk Oranı: 0.832897489539749\n"
          ]
        }
      ]
    },
    {
      "cell_type": "code",
      "source": [
        "loj = linear_model.LogisticRegression()\n",
        "loj_model = loj.fit(x_train_tf_idf_word,train_y)\n",
        "accuracy = model_selection.cross_val_score(loj_model, \n",
        "                                           x_test_tf_idf_word, \n",
        "                                           test_y, \n",
        "                                           cv = 10).mean()\n",
        "\n",
        "print(\"Word-Level TF-IDF Doğruluk Oranı:\", accuracy)"
      ],
      "metadata": {
        "colab": {
          "base_uri": "https://localhost:8080/"
        },
        "id": "CsG5oKYy94OJ",
        "outputId": "7cff86c9-d0bf-461b-e5c5-d6b3ccfeb80b"
      },
      "execution_count": 31,
      "outputs": [
        {
          "output_type": "stream",
          "name": "stdout",
          "text": [
            "Word-Level TF-IDF Doğruluk Oranı: 0.8289748953974895\n"
          ]
        }
      ]
    },
    {
      "cell_type": "code",
      "source": [
        "loj = linear_model.LogisticRegression()\n",
        "loj_model = loj.fit(x_train_tf_idf_ngram,train_y)\n",
        "accuracy = model_selection.cross_val_score(loj_model, \n",
        "                                           x_test_tf_idf_ngram, \n",
        "                                           test_y, \n",
        "                                           cv = 10).mean()\n",
        "\n",
        "print(\"N-GRAM TF-IDF Doğruluk Oranı:\", accuracy)"
      ],
      "metadata": {
        "colab": {
          "base_uri": "https://localhost:8080/"
        },
        "id": "wLRINXpj95UV",
        "outputId": "e8cf654d-5fb5-4dc0-e9dc-15bf6cb81f93"
      },
      "execution_count": 32,
      "outputs": [
        {
          "output_type": "stream",
          "name": "stdout",
          "text": [
            "N-GRAM TF-IDF Doğruluk Oranı: 0.7506276150627615\n"
          ]
        }
      ]
    },
    {
      "cell_type": "code",
      "source": [
        "loj = linear_model.LogisticRegression()\n",
        "loj_model = loj.fit(x_train_tf_idf_chars,train_y)\n",
        "accuracy = model_selection.cross_val_score(loj_model, \n",
        "                                           x_test_tf_idf_chars, \n",
        "                                           test_y, \n",
        "                                           cv = 10).mean()\n",
        "\n",
        "print(\"CHARLEVEL Doğruluk Oranı:\", accuracy)"
      ],
      "metadata": {
        "colab": {
          "base_uri": "https://localhost:8080/"
        },
        "id": "GbEavC0796pO",
        "outputId": "b40064fe-a432-41af-d216-b559b77e481a"
      },
      "execution_count": 33,
      "outputs": [
        {
          "output_type": "stream",
          "name": "stdout",
          "text": [
            "CHARLEVEL Doğruluk Oranı: 0.7776673640167363\n"
          ]
        }
      ]
    },
    {
      "cell_type": "markdown",
      "source": [
        "Farklı Vector işlemleriyle alınana farklı doğruluk oranları şimdi başka yöntemlerle deneyelim."
      ],
      "metadata": {
        "id": "ax5DZC1K-fWt"
      }
    },
    {
      "cell_type": "markdown",
      "source": [
        "### Naive Bayes"
      ],
      "metadata": {
        "id": "UYEKLsTq-zNN"
      }
    },
    {
      "cell_type": "code",
      "source": [
        "nb = naive_bayes.MultinomialNB()\n",
        "nb_model = nb.fit(x_train_count,train_y)\n",
        "accuracy = model_selection.cross_val_score(nb_model, \n",
        "                                           x_test_count, \n",
        "                                           test_y, \n",
        "                                           cv = 10).mean()\n",
        "\n",
        "print(\"Count Vectors Doğruluk Oranı:\", accuracy)"
      ],
      "metadata": {
        "colab": {
          "base_uri": "https://localhost:8080/"
        },
        "id": "K-Qausws-kR-",
        "outputId": "950cac99-9ac6-41ad-d99e-86adcaf2501d"
      },
      "execution_count": 34,
      "outputs": [
        {
          "output_type": "stream",
          "name": "stdout",
          "text": [
            "Count Vectors Doğruluk Oranı: 0.831642259414226\n"
          ]
        }
      ]
    },
    {
      "cell_type": "code",
      "source": [
        "nb = naive_bayes.MultinomialNB()\n",
        "nb_model = nb.fit(x_train_tf_idf_word,train_y)\n",
        "accuracy = model_selection.cross_val_score(nb_model, \n",
        "                                           x_test_tf_idf_word, \n",
        "                                           test_y, \n",
        "                                           cv = 10).mean()\n",
        "\n",
        "print(\"Word-Level TF-IDF Doğruluk Oranı:\", accuracy)"
      ],
      "metadata": {
        "colab": {
          "base_uri": "https://localhost:8080/"
        },
        "id": "YQqH8bGY-m7W",
        "outputId": "6fce9e8a-601b-4a28-c508-b25703d8da43"
      },
      "execution_count": 35,
      "outputs": [
        {
          "output_type": "stream",
          "name": "stdout",
          "text": [
            "Word-Level TF-IDF Doğruluk Oranı: 0.8322175732217574\n"
          ]
        }
      ]
    },
    {
      "cell_type": "code",
      "source": [
        "nb = naive_bayes.MultinomialNB()\n",
        "nb_model = nb.fit(x_train_tf_idf_ngram,train_y)\n",
        "accuracy = model_selection.cross_val_score(nb_model, \n",
        "                                           x_test_tf_idf_ngram, \n",
        "                                           test_y, \n",
        "                                           cv = 10).mean()\n",
        "\n",
        "print(\"N-GRAM TF-IDF Doğruluk Oranı:\", accuracy)"
      ],
      "metadata": {
        "colab": {
          "base_uri": "https://localhost:8080/"
        },
        "id": "Q-HaPPz4-oEG",
        "outputId": "e240a83e-c686-4341-9027-2480927bfd37"
      },
      "execution_count": 36,
      "outputs": [
        {
          "output_type": "stream",
          "name": "stdout",
          "text": [
            "N-GRAM TF-IDF Doğruluk Oranı: 0.7710251046025104\n"
          ]
        }
      ]
    },
    {
      "cell_type": "code",
      "source": [
        "nb = naive_bayes.MultinomialNB()\n",
        "nb_model = nb.fit(x_train_tf_idf_chars,train_y)\n",
        "accuracy = model_selection.cross_val_score(nb_model, \n",
        "                                           x_test_tf_idf_chars, \n",
        "                                           test_y, \n",
        "                                           cv = 10).mean()\n",
        "\n",
        "print(\"CHARLEVEL Doğruluk Oranı:\", accuracy)"
      ],
      "metadata": {
        "colab": {
          "base_uri": "https://localhost:8080/"
        },
        "id": "i_kOs7C2-pF1",
        "outputId": "f53b89f4-0b57-4574-dd07-96a0691a4024"
      },
      "execution_count": 37,
      "outputs": [
        {
          "output_type": "stream",
          "name": "stdout",
          "text": [
            "CHARLEVEL Doğruluk Oranı: 0.7529811715481173\n"
          ]
        }
      ]
    },
    {
      "cell_type": "markdown",
      "source": [
        "### Random Forests"
      ],
      "metadata": {
        "id": "Qn-nEiru-4s_"
      }
    },
    {
      "cell_type": "code",
      "source": [
        "rf = ensemble.RandomForestClassifier()\n",
        "rf_model = rf.fit(x_train_count,train_y)\n",
        "accuracy = model_selection.cross_val_score(rf_model, \n",
        "                                           x_test_count, \n",
        "                                           test_y, \n",
        "                                           cv = 10).mean()\n",
        "\n",
        "print(\"Count Vectors Doğruluk Oranı:\", accuracy)"
      ],
      "metadata": {
        "colab": {
          "base_uri": "https://localhost:8080/"
        },
        "id": "eeiGo5Bk-__m",
        "outputId": "28b87ed1-7a0f-44a9-d1af-52c36522acfb"
      },
      "execution_count": 38,
      "outputs": [
        {
          "output_type": "stream",
          "name": "stdout",
          "text": [
            "Count Vectors Doğruluk Oranı: 0.8257322175732218\n"
          ]
        }
      ]
    },
    {
      "cell_type": "code",
      "source": [
        "rf = ensemble.RandomForestClassifier()\n",
        "rf_model = rf.fit(x_train_tf_idf_word,train_y)\n",
        "accuracy = model_selection.cross_val_score(rf_model, \n",
        "                                           x_test_tf_idf_word, \n",
        "                                           test_y, \n",
        "                                           cv = 10).mean()\n",
        "\n",
        "print(\"Word-Level TF-IDF Doğruluk Oranı:\", accuracy)"
      ],
      "metadata": {
        "colab": {
          "base_uri": "https://localhost:8080/"
        },
        "id": "X9CMfNbp_COu",
        "outputId": "5351117b-ee24-4875-ab63-500cf66c8d81"
      },
      "execution_count": 39,
      "outputs": [
        {
          "output_type": "stream",
          "name": "stdout",
          "text": [
            "Word-Level TF-IDF Doğruluk Oranı: 0.8294456066945607\n"
          ]
        }
      ]
    },
    {
      "cell_type": "code",
      "source": [
        "rf = ensemble.RandomForestClassifier()\n",
        "rf_model = loj.fit(x_train_tf_idf_ngram,train_y)\n",
        "accuracy = model_selection.cross_val_score(rf_model, \n",
        "                                           x_test_tf_idf_ngram, \n",
        "                                           test_y, \n",
        "                                           cv = 10).mean()\n",
        "\n",
        "print(\"N-GRAM TF-IDF Doğruluk Oranı:\", accuracy)"
      ],
      "metadata": {
        "colab": {
          "base_uri": "https://localhost:8080/"
        },
        "id": "eANfveUh_DPW",
        "outputId": "ce47b669-8306-4260-b578-eec1ddc6bf80"
      },
      "execution_count": 40,
      "outputs": [
        {
          "output_type": "stream",
          "name": "stdout",
          "text": [
            "N-GRAM TF-IDF Doğruluk Oranı: 0.7506276150627615\n"
          ]
        }
      ]
    },
    {
      "cell_type": "code",
      "source": [
        "rf = ensemble.RandomForestClassifier()\n",
        "rf_model = loj.fit(x_train_tf_idf_chars,train_y)\n",
        "accuracy = model_selection.cross_val_score(rf_model, \n",
        "                                           x_test_tf_idf_chars, \n",
        "                                           test_y, \n",
        "                                           cv = 10).mean()\n",
        "\n",
        "print(\"CHARLEVEL Doğruluk Oranı:\", accuracy)"
      ],
      "metadata": {
        "colab": {
          "base_uri": "https://localhost:8080/"
        },
        "id": "MHY-KIkK_ER-",
        "outputId": "c2f490ab-f55c-432c-ad43-72461f4fbe42"
      },
      "execution_count": 41,
      "outputs": [
        {
          "output_type": "stream",
          "name": "stdout",
          "text": [
            "CHARLEVEL Doğruluk Oranı: 0.7776673640167363\n"
          ]
        }
      ]
    },
    {
      "cell_type": "markdown",
      "source": [
        "### XGBoost"
      ],
      "metadata": {
        "id": "_U6YTt4U_LFm"
      }
    },
    {
      "cell_type": "code",
      "source": [
        "xgb = xgboost.XGBClassifier()\n",
        "xgb_model = xgb.fit(x_train_count,train_y)\n",
        "accuracy = model_selection.cross_val_score(xgb_model, \n",
        "                                           x_test_count, \n",
        "                                           test_y, \n",
        "                                           cv = 10).mean()\n",
        "\n",
        "print(\"Count Vectors Doğruluk Oranı:\", accuracy)"
      ],
      "metadata": {
        "colab": {
          "base_uri": "https://localhost:8080/"
        },
        "id": "OmoQxpFR_Q1A",
        "outputId": "94735e4f-9b1e-4b4b-df19-4ee553cee6dc"
      },
      "execution_count": 42,
      "outputs": [
        {
          "output_type": "stream",
          "name": "stdout",
          "text": [
            "Count Vectors Doğruluk Oranı: 0.6226464435146444\n"
          ]
        }
      ]
    },
    {
      "cell_type": "code",
      "source": [
        "xgb = xgboost.XGBClassifier()\n",
        "xgb_model = xgb.fit(x_train_tf_idf_word,train_y)\n",
        "accuracy = model_selection.cross_val_score(xgb_model, \n",
        "                                           x_test_tf_idf_word, \n",
        "                                           test_y, \n",
        "                                           cv = 10).mean()\n",
        "\n",
        "print(\"Word-Level TF-IDF Doğruluk Oranı:\", accuracy)"
      ],
      "metadata": {
        "colab": {
          "base_uri": "https://localhost:8080/"
        },
        "id": "8dtEq8AW_Rru",
        "outputId": "25727213-933c-4552-b5ed-b1f8891e37e1"
      },
      "execution_count": 43,
      "outputs": [
        {
          "output_type": "stream",
          "name": "stdout",
          "text": [
            "Word-Level TF-IDF Doğruluk Oranı: 0.6218619246861925\n"
          ]
        }
      ]
    },
    {
      "cell_type": "code",
      "source": [
        "xgb = xgboost.XGBClassifier()\n",
        "xgb_model = xgb.fit(x_train_tf_idf_ngram,train_y)\n",
        "accuracy = model_selection.cross_val_score(xgb_model, \n",
        "                                           x_test_tf_idf_ngram, \n",
        "                                           test_y, \n",
        "                                           cv = 10).mean()\n",
        "\n",
        "print(\"N-GRAM TF-IDF Doğruluk Oranı:\", accuracy)"
      ],
      "metadata": {
        "colab": {
          "base_uri": "https://localhost:8080/"
        },
        "id": "VtsMkpQ-_Sue",
        "outputId": "dff257b5-7147-47fe-906e-cb0c4c71a79e"
      },
      "execution_count": 44,
      "outputs": [
        {
          "output_type": "stream",
          "name": "stdout",
          "text": [
            "N-GRAM TF-IDF Doğruluk Oranı: 0.561663179916318\n"
          ]
        }
      ]
    },
    {
      "cell_type": "code",
      "source": [
        "xgb = xgboost.XGBClassifier()\n",
        "xgb_model = xgb.fit(x_train_tf_idf_chars,train_y)\n",
        "accuracy = model_selection.cross_val_score(xgb_model, \n",
        "                                           x_test_tf_idf_chars, \n",
        "                                           test_y, \n",
        "                                           cv = 10).mean()\n",
        "\n",
        "print(\"CHARLEVEL Doğruluk Oranı:\", accuracy)"
      ],
      "metadata": {
        "colab": {
          "base_uri": "https://localhost:8080/"
        },
        "id": "WB6R06Ih_Tw9",
        "outputId": "9165cbcd-f971-49d7-bd94-59e3fe6c4773"
      },
      "execution_count": 45,
      "outputs": [
        {
          "output_type": "stream",
          "name": "stdout",
          "text": [
            "CHARLEVEL Doğruluk Oranı: 0.6939330543933054\n"
          ]
        }
      ]
    },
    {
      "cell_type": "markdown",
      "source": [
        "Her türlü modeli denedik şimdi iyi sonuç veren lojistik regresyon ile deneyelim"
      ],
      "metadata": {
        "id": "blfr3cGrJb-p"
      }
    },
    {
      "cell_type": "code",
      "source": [
        "loj_model"
      ],
      "metadata": {
        "colab": {
          "base_uri": "https://localhost:8080/"
        },
        "id": "Su_-wZ7P_VZ4",
        "outputId": "cfc2abd6-6c6d-42dc-a663-a25c0599648e"
      },
      "execution_count": 43,
      "outputs": [
        {
          "output_type": "execute_result",
          "data": {
            "text/plain": [
              "LogisticRegression()"
            ]
          },
          "metadata": {},
          "execution_count": 43
        }
      ]
    },
    {
      "cell_type": "markdown",
      "source": [
        "yeni yorumun model tarafından nasıl tahmin edileceğine bakalım. tabi önce CountVector işleminden geçirmemiz lazım çünkü bizim modelimiz bu şkilde verilerden anlaşıyor."
      ],
      "metadata": {
        "id": "RDbvEwXoJ-re"
      }
    },
    {
      "cell_type": "code",
      "source": [
        "yeni_yorum = pd.Series(\"this film is very nice and good i like it\")\n",
        "\n",
        "yeni_yorum1 = pd.Series(\"no not good look at that shit very bad\")"
      ],
      "metadata": {
        "id": "RDLfe6Kd_X_j"
      },
      "execution_count": 44,
      "outputs": []
    },
    {
      "cell_type": "code",
      "source": [
        "v = CountVectorizer()\n",
        "v.fit(train_x)\n",
        "yeni_yorum = v.transform(yeni_yorum)\n"
      ],
      "metadata": {
        "id": "BQlOiBcN_Y-t"
      },
      "execution_count": 45,
      "outputs": []
    },
    {
      "cell_type": "code",
      "source": [
        "loj_model.predict(yeni_yorum)"
      ],
      "metadata": {
        "colab": {
          "base_uri": "https://localhost:8080/"
        },
        "id": "0o2tAQc__Z81",
        "outputId": "878395e4-6192-4b02-c2e8-a52d034e118f"
      },
      "execution_count": 46,
      "outputs": [
        {
          "output_type": "execute_result",
          "data": {
            "text/plain": [
              "array([1])"
            ]
          },
          "metadata": {},
          "execution_count": 46
        }
      ]
    },
    {
      "cell_type": "code",
      "source": [
        "v = CountVectorizer()\n",
        "v.fit(train_x)\n",
        "yeni_yorum1 = v.transform(yeni_yorum1)\n"
      ],
      "metadata": {
        "id": "I1NeZ7TWKtBu"
      },
      "execution_count": 50,
      "outputs": []
    },
    {
      "cell_type": "code",
      "source": [
        "loj_model.predict(yeni_yorum1)"
      ],
      "metadata": {
        "colab": {
          "base_uri": "https://localhost:8080/"
        },
        "id": "kHkMNeD4MpzU",
        "outputId": "5abbf950-a036-48e8-e113-a97aef6d60be"
      },
      "execution_count": 51,
      "outputs": [
        {
          "output_type": "execute_result",
          "data": {
            "text/plain": [
              "array([0])"
            ]
          },
          "metadata": {},
          "execution_count": 51
        }
      ]
    },
    {
      "cell_type": "markdown",
      "source": [
        "bir olumlu bir olumsuz eleştiri ile modelimizi denemiş olduk bir sonraki notebookta ne öğreneceğiz acabaaa"
      ],
      "metadata": {
        "id": "8dpwMPwQM1rl"
      }
    },
    {
      "cell_type": "code",
      "source": [
        ""
      ],
      "metadata": {
        "id": "8KvRnTFVMvZs"
      },
      "execution_count": null,
      "outputs": []
    }
  ]
}