{
  "nbformat": 4,
  "nbformat_minor": 0,
  "metadata": {
    "colab": {
      "name": "NLP_Temel_String.ipynb",
      "provenance": []
    },
    "kernelspec": {
      "name": "python3",
      "display_name": "Python 3"
    },
    "language_info": {
      "name": "python"
    }
  },
  "cells": [
    {
      "cell_type": "markdown",
      "source": [
        "# Temel String İşlemleri"
      ],
      "metadata": {
        "id": "yFEFXdbdLN0D"
      }
    },
    {
      "cell_type": "code",
      "execution_count": 1,
      "metadata": {
        "id": "2-5Or_NlHlFK"
      },
      "outputs": [],
      "source": [
        "ad = \"mert\""
      ]
    },
    {
      "cell_type": "code",
      "source": [
        "3*ad"
      ],
      "metadata": {
        "colab": {
          "base_uri": "https://localhost:8080/",
          "height": 35
        },
        "id": "GwB9NOT4LXLU",
        "outputId": "9df6a7a0-f542-477f-e8e1-3c9ecba64592"
      },
      "execution_count": 2,
      "outputs": [
        {
          "output_type": "execute_result",
          "data": {
            "application/vnd.google.colaboratory.intrinsic+json": {
              "type": "string"
            },
            "text/plain": [
              "'mertmertmert'"
            ]
          },
          "metadata": {},
          "execution_count": 2
        }
      ]
    },
    {
      "cell_type": "code",
      "source": [
        "\"mert\" + \"bozkurt\""
      ],
      "metadata": {
        "colab": {
          "base_uri": "https://localhost:8080/",
          "height": 35
        },
        "id": "UN_28G5QLYlt",
        "outputId": "8ac3745d-78f4-482a-ef9b-999f4b986b57"
      },
      "execution_count": 3,
      "outputs": [
        {
          "output_type": "execute_result",
          "data": {
            "application/vnd.google.colaboratory.intrinsic+json": {
              "type": "string"
            },
            "text/plain": [
              "'mertbozkurt'"
            ]
          },
          "metadata": {},
          "execution_count": 3
        }
      ]
    },
    {
      "cell_type": "code",
      "source": [
        "\"T\" + ad[1:]"
      ],
      "metadata": {
        "colab": {
          "base_uri": "https://localhost:8080/",
          "height": 35
        },
        "id": "bn3bCyqlLc2A",
        "outputId": "c8f2cbe2-df1b-4928-fa70-64b983751601"
      },
      "execution_count": 5,
      "outputs": [
        {
          "output_type": "execute_result",
          "data": {
            "application/vnd.google.colaboratory.intrinsic+json": {
              "type": "string"
            },
            "text/plain": [
              "'Tert'"
            ]
          },
          "metadata": {},
          "execution_count": 5
        }
      ]
    },
    {
      "cell_type": "code",
      "source": [
        "names = [\"mert\",\"ahmet\",\"zeynep\",\"müzeyyen\"]\n",
        "for i in names :\n",
        "  print(\"Adı:\",i,sep=\"\")"
      ],
      "metadata": {
        "colab": {
          "base_uri": "https://localhost:8080/"
        },
        "id": "oqLbkzC6LleP",
        "outputId": "c5d129ec-b143-4f03-f627-391ad1f58013"
      },
      "execution_count": 8,
      "outputs": [
        {
          "output_type": "stream",
          "name": "stdout",
          "text": [
            "Adı:mert\n",
            "Adı:ahmet\n",
            "Adı:zeynep\n",
            "Adı:müzeyyen\n"
          ]
        }
      ]
    },
    {
      "cell_type": "code",
      "source": [
        "for i in names :\n",
        "  print(\"_\",i[0:],sep=\"\")"
      ],
      "metadata": {
        "colab": {
          "base_uri": "https://localhost:8080/"
        },
        "id": "sG9n0XQ3MKe7",
        "outputId": "aaf49329-e8d7-468c-899a-2e52d409abb7"
      },
      "execution_count": 9,
      "outputs": [
        {
          "output_type": "stream",
          "name": "stdout",
          "text": [
            "_mert\n",
            "_ahmet\n",
            "_zeynep\n",
            "_müzeyyen\n"
          ]
        }
      ]
    },
    {
      "cell_type": "markdown",
      "source": [
        "**numaralandırma fonksiyonu enumerate**"
      ],
      "metadata": {
        "id": "Sj5Sj5iPMogS"
      }
    },
    {
      "cell_type": "code",
      "source": [
        "print(*enumerate(names))"
      ],
      "metadata": {
        "colab": {
          "base_uri": "https://localhost:8080/"
        },
        "id": "XXm3PO3lMd2T",
        "outputId": "5c12d6ad-6e7f-4a9f-dbb0-ca0c3e73d9ad"
      },
      "execution_count": 10,
      "outputs": [
        {
          "output_type": "stream",
          "name": "stdout",
          "text": [
            "(0, 'mert') (1, 'ahmet') (2, 'zeynep') (3, 'müzeyyen')\n"
          ]
        }
      ]
    },
    {
      "cell_type": "code",
      "source": [
        "#veya böyle \n",
        "for i in enumerate(names,1): #istediğimiz sayıdan da başlatabiliriz\n",
        "  print(i)"
      ],
      "metadata": {
        "colab": {
          "base_uri": "https://localhost:8080/"
        },
        "id": "3sD1cf-uMwPz",
        "outputId": "d9b67fcf-66b5-47ac-f1f5-ae235b34309f"
      },
      "execution_count": 12,
      "outputs": [
        {
          "output_type": "stream",
          "name": "stdout",
          "text": [
            "(1, 'mert')\n",
            "(2, 'ahmet')\n",
            "(3, 'zeynep')\n",
            "(4, 'müzeyyen')\n"
          ]
        }
      ]
    },
    {
      "cell_type": "markdown",
      "source": [
        "### Dizi içi tip sorgulamaları"
      ],
      "metadata": {
        "id": "LeVyc9dRNfmn"
      }
    },
    {
      "cell_type": "code",
      "source": [
        "\"mert\".isalpha() #alfabetik mi"
      ],
      "metadata": {
        "colab": {
          "base_uri": "https://localhost:8080/"
        },
        "id": "pW2qj6bqNEyw",
        "outputId": "b8efc394-50aa-4948-d5f4-d075332fa0e4"
      },
      "execution_count": 13,
      "outputs": [
        {
          "output_type": "execute_result",
          "data": {
            "text/plain": [
              "True"
            ]
          },
          "metadata": {},
          "execution_count": 13
        }
      ]
    },
    {
      "cell_type": "code",
      "source": [
        "\"mert38\".isalpha()"
      ],
      "metadata": {
        "colab": {
          "base_uri": "https://localhost:8080/"
        },
        "id": "jrGJU_0JNrPk",
        "outputId": "37766780-692a-48aa-b9ad-f2e66d6148e1"
      },
      "execution_count": 14,
      "outputs": [
        {
          "output_type": "execute_result",
          "data": {
            "text/plain": [
              "False"
            ]
          },
          "metadata": {},
          "execution_count": 14
        }
      ]
    },
    {
      "cell_type": "code",
      "source": [
        "\"374\".isnumeric() #numerik mi"
      ],
      "metadata": {
        "colab": {
          "base_uri": "https://localhost:8080/"
        },
        "id": "-3pvP3J1N1xz",
        "outputId": "611a13d9-95b8-43ee-bfe4-aa1452f28146"
      },
      "execution_count": 19,
      "outputs": [
        {
          "output_type": "execute_result",
          "data": {
            "text/plain": [
              "True"
            ]
          },
          "metadata": {},
          "execution_count": 19
        }
      ]
    },
    {
      "cell_type": "code",
      "source": [
        "\"374\".isdigit()"
      ],
      "metadata": {
        "colab": {
          "base_uri": "https://localhost:8080/"
        },
        "id": "1-9oU85TN6oG",
        "outputId": "bb7de290-b980-4b7e-94c9-b3a4afedee47"
      },
      "execution_count": 16,
      "outputs": [
        {
          "output_type": "execute_result",
          "data": {
            "text/plain": [
              "True"
            ]
          },
          "metadata": {},
          "execution_count": 16
        }
      ]
    },
    {
      "cell_type": "code",
      "source": [
        "\"mert374\".isalnum() #aynı anda ise"
      ],
      "metadata": {
        "colab": {
          "base_uri": "https://localhost:8080/"
        },
        "id": "WDf86lP5N9_n",
        "outputId": "6032855f-f7e6-4539-bf4b-8c84994c6b19"
      },
      "execution_count": 18,
      "outputs": [
        {
          "output_type": "execute_result",
          "data": {
            "text/plain": [
              "True"
            ]
          },
          "metadata": {},
          "execution_count": 18
        }
      ]
    },
    {
      "cell_type": "markdown",
      "source": [
        "**Eleman ve eleman indexleri**"
      ],
      "metadata": {
        "id": "O3V33yoCOZiq"
      }
    },
    {
      "cell_type": "code",
      "source": [
        "name = \"mert\"\n",
        "name"
      ],
      "metadata": {
        "colab": {
          "base_uri": "https://localhost:8080/",
          "height": 35
        },
        "id": "Vkbvq0w7OEiL",
        "outputId": "c414606d-07c0-4b47-9c63-053828351f6f"
      },
      "execution_count": 20,
      "outputs": [
        {
          "output_type": "execute_result",
          "data": {
            "application/vnd.google.colaboratory.intrinsic+json": {
              "type": "string"
            },
            "text/plain": [
              "'mert'"
            ]
          },
          "metadata": {},
          "execution_count": 20
        }
      ]
    },
    {
      "cell_type": "code",
      "source": [
        "name[0:2] #indexler arası"
      ],
      "metadata": {
        "colab": {
          "base_uri": "https://localhost:8080/",
          "height": 35
        },
        "id": "m_iEDTlFOiD4",
        "outputId": "d479ee8b-218e-486d-baf3-2e8f61dee850"
      },
      "execution_count": 23,
      "outputs": [
        {
          "output_type": "execute_result",
          "data": {
            "application/vnd.google.colaboratory.intrinsic+json": {
              "type": "string"
            },
            "text/plain": [
              "'me'"
            ]
          },
          "metadata": {},
          "execution_count": 23
        }
      ]
    },
    {
      "cell_type": "code",
      "source": [
        "name.index(\"r\") #indexten değere erişme"
      ],
      "metadata": {
        "colab": {
          "base_uri": "https://localhost:8080/"
        },
        "id": "T2Sbc0xwOlGm",
        "outputId": "b06bc7a4-847d-4d85-8345-80138906c56e"
      },
      "execution_count": 22,
      "outputs": [
        {
          "output_type": "execute_result",
          "data": {
            "text/plain": [
              "2"
            ]
          },
          "metadata": {},
          "execution_count": 22
        }
      ]
    },
    {
      "cell_type": "code",
      "source": [
        "name2 = \"mertmertmert\"\n",
        "name2"
      ],
      "metadata": {
        "colab": {
          "base_uri": "https://localhost:8080/",
          "height": 35
        },
        "id": "iUYTq06bOor-",
        "outputId": "f1b8e35a-9dd0-4e47-a421-95710ba4d32e"
      },
      "execution_count": 24,
      "outputs": [
        {
          "output_type": "execute_result",
          "data": {
            "application/vnd.google.colaboratory.intrinsic+json": {
              "type": "string"
            },
            "text/plain": [
              "'mertmertmert'"
            ]
          },
          "metadata": {},
          "execution_count": 24
        }
      ]
    },
    {
      "cell_type": "code",
      "source": [
        "name2.index(\"m\")"
      ],
      "metadata": {
        "colab": {
          "base_uri": "https://localhost:8080/"
        },
        "id": "7sO3Y0KSO43e",
        "outputId": "ed96da6e-83dd-4250-ca56-61e5d37b2397"
      },
      "execution_count": 25,
      "outputs": [
        {
          "output_type": "execute_result",
          "data": {
            "text/plain": [
              "0"
            ]
          },
          "metadata": {},
          "execution_count": 25
        }
      ]
    },
    {
      "cell_type": "markdown",
      "source": [
        "**Peki diğer \"m\" ler için nasıl davranacağız.**"
      ],
      "metadata": {
        "id": "qmcLQxKDPDxC"
      }
    },
    {
      "cell_type": "code",
      "source": [
        "name2.index(\"m\",3)# 3.indexten sonraki harflerde aramaya başlar"
      ],
      "metadata": {
        "colab": {
          "base_uri": "https://localhost:8080/"
        },
        "id": "vRhC9LZLO8op",
        "outputId": "4098fdf2-d322-453b-b5e4-4817a5957a5e"
      },
      "execution_count": 27,
      "outputs": [
        {
          "output_type": "execute_result",
          "data": {
            "text/plain": [
              "4"
            ]
          },
          "metadata": {},
          "execution_count": 27
        }
      ]
    },
    {
      "cell_type": "markdown",
      "source": [
        "**hangi harf ile başlar biter bunun sorgusu**"
      ],
      "metadata": {
        "id": "f6A-21HqPjaU"
      }
    },
    {
      "cell_type": "code",
      "source": [
        "name.startswith(\"m\") "
      ],
      "metadata": {
        "colab": {
          "base_uri": "https://localhost:8080/"
        },
        "id": "0DTA4cWpPL81",
        "outputId": "06147b2b-b07b-4ad7-f463-3ec4f7332db6"
      },
      "execution_count": 30,
      "outputs": [
        {
          "output_type": "execute_result",
          "data": {
            "text/plain": [
              "True"
            ]
          },
          "metadata": {},
          "execution_count": 30
        }
      ]
    },
    {
      "cell_type": "code",
      "source": [
        "name.startswith(\"e\")"
      ],
      "metadata": {
        "colab": {
          "base_uri": "https://localhost:8080/"
        },
        "id": "w_La2nOaPc-N",
        "outputId": "27e45afb-a65f-4c8b-f651-5d667a4e52e3"
      },
      "execution_count": 31,
      "outputs": [
        {
          "output_type": "execute_result",
          "data": {
            "text/plain": [
              "False"
            ]
          },
          "metadata": {},
          "execution_count": 31
        }
      ]
    },
    {
      "cell_type": "code",
      "source": [
        "name.endswith(\"t\")"
      ],
      "metadata": {
        "colab": {
          "base_uri": "https://localhost:8080/"
        },
        "id": "olNbl8v7PfWv",
        "outputId": "b49d7a79-74da-4c43-e8c6-72ae814c6aaa"
      },
      "execution_count": 32,
      "outputs": [
        {
          "output_type": "execute_result",
          "data": {
            "text/plain": [
              "True"
            ]
          },
          "metadata": {},
          "execution_count": 32
        }
      ]
    },
    {
      "cell_type": "markdown",
      "source": [
        "**saymak için**"
      ],
      "metadata": {
        "id": "ZFD8ESV4PreK"
      }
    },
    {
      "cell_type": "code",
      "source": [
        "name2.count(\"m\")"
      ],
      "metadata": {
        "colab": {
          "base_uri": "https://localhost:8080/"
        },
        "id": "NMSa_EyDPowG",
        "outputId": "dc17e05e-d75f-4528-983d-8a0a9281171f"
      },
      "execution_count": 33,
      "outputs": [
        {
          "output_type": "execute_result",
          "data": {
            "text/plain": [
              "3"
            ]
          },
          "metadata": {},
          "execution_count": 33
        }
      ]
    },
    {
      "cell_type": "markdown",
      "source": [
        "**sıralama içün**"
      ],
      "metadata": {
        "id": "JpchMn0-P651"
      }
    },
    {
      "cell_type": "code",
      "source": [
        "sorted(\"cba\")"
      ],
      "metadata": {
        "colab": {
          "base_uri": "https://localhost:8080/"
        },
        "id": "biCnAC9CPwzC",
        "outputId": "6d0e760d-138a-4d69-85d3-4ee60a92a58d"
      },
      "execution_count": 34,
      "outputs": [
        {
          "output_type": "execute_result",
          "data": {
            "text/plain": [
              "['a', 'b', 'c']"
            ]
          },
          "metadata": {},
          "execution_count": 34
        }
      ]
    },
    {
      "cell_type": "code",
      "source": [
        "sorted(\"65321\")"
      ],
      "metadata": {
        "colab": {
          "base_uri": "https://localhost:8080/"
        },
        "id": "g15XthjnQkOU",
        "outputId": "8e3739f8-47ed-4812-debc-43b8be371520"
      },
      "execution_count": 35,
      "outputs": [
        {
          "output_type": "execute_result",
          "data": {
            "text/plain": [
              "['1', '2', '3', '5', '6']"
            ]
          },
          "metadata": {},
          "execution_count": 35
        }
      ]
    },
    {
      "cell_type": "markdown",
      "source": [
        "**Karakterleri bölmek parçalamak**"
      ],
      "metadata": {
        "id": "3QJ0mL_hQcFB"
      }
    },
    {
      "cell_type": "code",
      "source": [
        "name = \"mert bozkurt\""
      ],
      "metadata": {
        "id": "VvPVB_EoQAia"
      },
      "execution_count": 36,
      "outputs": []
    },
    {
      "cell_type": "code",
      "source": [
        "name.split()"
      ],
      "metadata": {
        "colab": {
          "base_uri": "https://localhost:8080/"
        },
        "id": "hrp0MSmpQtzG",
        "outputId": "8d5d2018-b7c9-4d30-e9cc-3c453b66f599"
      },
      "execution_count": 37,
      "outputs": [
        {
          "output_type": "execute_result",
          "data": {
            "text/plain": [
              "['mert', 'bozkurt']"
            ]
          },
          "metadata": {},
          "execution_count": 37
        }
      ]
    },
    {
      "cell_type": "code",
      "source": [
        "name = \"mert-bozkurt\""
      ],
      "metadata": {
        "id": "FjIOd1TpQwmD"
      },
      "execution_count": 40,
      "outputs": []
    },
    {
      "cell_type": "code",
      "source": [
        "name.split(\"-\")"
      ],
      "metadata": {
        "colab": {
          "base_uri": "https://localhost:8080/"
        },
        "id": "KUdZyDDzQ1kL",
        "outputId": "51aa2792-2e5a-44a1-c086-16fca66680f5"
      },
      "execution_count": 41,
      "outputs": [
        {
          "output_type": "execute_result",
          "data": {
            "text/plain": [
              "['mert', 'bozkurt']"
            ]
          },
          "metadata": {},
          "execution_count": 41
        }
      ]
    },
    {
      "cell_type": "markdown",
      "source": [
        "**BÜYÜK-küçük harf işlemleri**"
      ],
      "metadata": {
        "id": "EYLRQ0_8Q9kd"
      }
    },
    {
      "cell_type": "code",
      "source": [
        "name = \"Mert Bozkurt\""
      ],
      "metadata": {
        "id": "ttoUMXgNQ4SG"
      },
      "execution_count": 42,
      "outputs": []
    },
    {
      "cell_type": "code",
      "source": [
        "name.upper()"
      ],
      "metadata": {
        "colab": {
          "base_uri": "https://localhost:8080/",
          "height": 35
        },
        "id": "tM9-opyERHWo",
        "outputId": "f41ee671-4275-4fde-d275-9a8ed5427305"
      },
      "execution_count": 43,
      "outputs": [
        {
          "output_type": "execute_result",
          "data": {
            "application/vnd.google.colaboratory.intrinsic+json": {
              "type": "string"
            },
            "text/plain": [
              "'MERT BOZKURT'"
            ]
          },
          "metadata": {},
          "execution_count": 43
        }
      ]
    },
    {
      "cell_type": "code",
      "source": [
        "name = name.lower()\n",
        "name"
      ],
      "metadata": {
        "colab": {
          "base_uri": "https://localhost:8080/",
          "height": 35
        },
        "id": "p1NgeBTWRJLn",
        "outputId": "9c1773ce-fda0-4b3e-f630-2cd144edb873"
      },
      "execution_count": 47,
      "outputs": [
        {
          "output_type": "execute_result",
          "data": {
            "application/vnd.google.colaboratory.intrinsic+json": {
              "type": "string"
            },
            "text/plain": [
              "'mert bozkurt'"
            ]
          },
          "metadata": {},
          "execution_count": 47
        }
      ]
    },
    {
      "cell_type": "code",
      "source": [
        "name.islower()"
      ],
      "metadata": {
        "colab": {
          "base_uri": "https://localhost:8080/"
        },
        "id": "yRfQyRLTRLIB",
        "outputId": "f1d033a7-d941-4cae-a7c3-39120608d6e4"
      },
      "execution_count": 48,
      "outputs": [
        {
          "output_type": "execute_result",
          "data": {
            "text/plain": [
              "True"
            ]
          },
          "metadata": {},
          "execution_count": 48
        }
      ]
    },
    {
      "cell_type": "code",
      "source": [
        "name"
      ],
      "metadata": {
        "colab": {
          "base_uri": "https://localhost:8080/",
          "height": 35
        },
        "id": "3s0l259zS87b",
        "outputId": "d66ee230-b5de-4feb-e87e-58668bde58dc"
      },
      "execution_count": 49,
      "outputs": [
        {
          "output_type": "execute_result",
          "data": {
            "application/vnd.google.colaboratory.intrinsic+json": {
              "type": "string"
            },
            "text/plain": [
              "'mert bozkurt'"
            ]
          },
          "metadata": {},
          "execution_count": 49
        }
      ]
    },
    {
      "cell_type": "code",
      "source": [
        "name.capitalize()"
      ],
      "metadata": {
        "colab": {
          "base_uri": "https://localhost:8080/",
          "height": 35
        },
        "id": "mcm-pjSmTYPt",
        "outputId": "9049badb-a759-44d8-f2ed-35efa858eb8b"
      },
      "execution_count": 50,
      "outputs": [
        {
          "output_type": "execute_result",
          "data": {
            "application/vnd.google.colaboratory.intrinsic+json": {
              "type": "string"
            },
            "text/plain": [
              "'Mert bozkurt'"
            ]
          },
          "metadata": {},
          "execution_count": 50
        }
      ]
    },
    {
      "cell_type": "code",
      "source": [
        "name = name.title()\n",
        "name"
      ],
      "metadata": {
        "colab": {
          "base_uri": "https://localhost:8080/",
          "height": 35
        },
        "id": "YO8enrPATc9s",
        "outputId": "3f910cb0-74fa-49b9-ac17-6ee60521e53e"
      },
      "execution_count": 52,
      "outputs": [
        {
          "output_type": "execute_result",
          "data": {
            "application/vnd.google.colaboratory.intrinsic+json": {
              "type": "string"
            },
            "text/plain": [
              "'Mert Bozkurt'"
            ]
          },
          "metadata": {},
          "execution_count": 52
        }
      ]
    },
    {
      "cell_type": "code",
      "source": [
        "name.swapcase()"
      ],
      "metadata": {
        "colab": {
          "base_uri": "https://localhost:8080/",
          "height": 35
        },
        "id": "13jHwlinTfjc",
        "outputId": "f996f808-6aa5-4fcd-e76f-a77f3db103cb"
      },
      "execution_count": 53,
      "outputs": [
        {
          "output_type": "execute_result",
          "data": {
            "application/vnd.google.colaboratory.intrinsic+json": {
              "type": "string"
            },
            "text/plain": [
              "'mERT bOZKURT'"
            ]
          },
          "metadata": {},
          "execution_count": 53
        }
      ]
    },
    {
      "cell_type": "markdown",
      "source": [
        "**İstenmeyen karakterleri kırpmak**\n",
        "\n",
        "hayatta hepimizin ihtiyacı olan 😢"
      ],
      "metadata": {
        "id": "GClgnL8CT8nF"
      }
    },
    {
      "cell_type": "code",
      "source": [
        "name = \" mertbozkurt   \"\n",
        "name"
      ],
      "metadata": {
        "colab": {
          "base_uri": "https://localhost:8080/",
          "height": 35
        },
        "id": "ZwEPtecWTv7N",
        "outputId": "ea518b7e-08b5-4222-e677-345a6924391a"
      },
      "execution_count": 57,
      "outputs": [
        {
          "output_type": "execute_result",
          "data": {
            "application/vnd.google.colaboratory.intrinsic+json": {
              "type": "string"
            },
            "text/plain": [
              "' mertbozkurt   '"
            ]
          },
          "metadata": {},
          "execution_count": 57
        }
      ]
    },
    {
      "cell_type": "code",
      "source": [
        "name.strip() #içindeki değere göre kırpma yapar"
      ],
      "metadata": {
        "colab": {
          "base_uri": "https://localhost:8080/",
          "height": 35
        },
        "id": "RQ4dRpAFUdS6",
        "outputId": "6938fd6d-9c7a-450b-96db-bdf0d390c161"
      },
      "execution_count": 58,
      "outputs": [
        {
          "output_type": "execute_result",
          "data": {
            "application/vnd.google.colaboratory.intrinsic+json": {
              "type": "string"
            },
            "text/plain": [
              "'mertbozkurt'"
            ]
          },
          "metadata": {},
          "execution_count": 58
        }
      ]
    },
    {
      "cell_type": "code",
      "source": [
        "name = \"-mert-\""
      ],
      "metadata": {
        "id": "Phnaa1pbUrAe"
      },
      "execution_count": 59,
      "outputs": []
    },
    {
      "cell_type": "code",
      "source": [
        "name.lstrip(\"-\") #sadece soldan kırptı rstrip()sadece sağdan yapar"
      ],
      "metadata": {
        "colab": {
          "base_uri": "https://localhost:8080/",
          "height": 35
        },
        "id": "d9SuGh34Uk0t",
        "outputId": "52b42ec6-c776-4e80-b96a-b07242f4325a"
      },
      "execution_count": 61,
      "outputs": [
        {
          "output_type": "execute_result",
          "data": {
            "application/vnd.google.colaboratory.intrinsic+json": {
              "type": "string"
            },
            "text/plain": [
              "'mert-'"
            ]
          },
          "metadata": {},
          "execution_count": 61
        }
      ]
    },
    {
      "cell_type": "markdown",
      "source": [
        "**bölünmüş olanları birleştirilmesi\n",
        "(Türk solunun ihtiyacı olan)**"
      ],
      "metadata": {
        "id": "rmtZ0z4dU-0B"
      }
    },
    {
      "cell_type": "code",
      "source": [
        "name = \"ceza-sagopa\""
      ],
      "metadata": {
        "id": "I_Dm4xAUUxA-"
      },
      "execution_count": 68,
      "outputs": []
    },
    {
      "cell_type": "code",
      "source": [
        "ayrilik = name.split(\"-\")\n",
        "ayrilik"
      ],
      "metadata": {
        "colab": {
          "base_uri": "https://localhost:8080/"
        },
        "id": "oFVM126aW2-C",
        "outputId": "1b8f8deb-bd03-451d-f5a6-5f9d27c25b5b"
      },
      "execution_count": 69,
      "outputs": [
        {
          "output_type": "execute_result",
          "data": {
            "text/plain": [
              "['ceza', 'sagopa']"
            ]
          },
          "metadata": {},
          "execution_count": 69
        }
      ]
    },
    {
      "cell_type": "code",
      "source": [
        "joiner = \" \""
      ],
      "metadata": {
        "id": "McY-5NI3XBbU"
      },
      "execution_count": 70,
      "outputs": []
    },
    {
      "cell_type": "code",
      "source": [
        "baris = joiner.join(ayrilik)\n",
        "baris"
      ],
      "metadata": {
        "colab": {
          "base_uri": "https://localhost:8080/",
          "height": 35
        },
        "id": "wSLhXeLNWj3V",
        "outputId": "450b9579-1010-44f6-e524-a53e1ce240de"
      },
      "execution_count": 71,
      "outputs": [
        {
          "output_type": "execute_result",
          "data": {
            "application/vnd.google.colaboratory.intrinsic+json": {
              "type": "string"
            },
            "text/plain": [
              "'ceza sagopa'"
            ]
          },
          "metadata": {},
          "execution_count": 71
        }
      ]
    },
    {
      "cell_type": "markdown",
      "source": [
        "**eleman değiştirme**"
      ],
      "metadata": {
        "id": "WlW8jMbFXXa_"
      }
    },
    {
      "cell_type": "code",
      "source": [
        "name = \"mert\""
      ],
      "metadata": {
        "id": "Yv8HmdeVWqc-"
      },
      "execution_count": 72,
      "outputs": []
    },
    {
      "cell_type": "code",
      "source": [
        "name.replace(\"m\",\"c\")"
      ],
      "metadata": {
        "colab": {
          "base_uri": "https://localhost:8080/",
          "height": 35
        },
        "id": "rxx-3pNcXdb5",
        "outputId": "6be56911-f767-4519-cf74-cbb06bdf9161"
      },
      "execution_count": 73,
      "outputs": [
        {
          "output_type": "execute_result",
          "data": {
            "application/vnd.google.colaboratory.intrinsic+json": {
              "type": "string"
            },
            "text/plain": [
              "'cert'"
            ]
          },
          "metadata": {},
          "execution_count": 73
        }
      ]
    },
    {
      "cell_type": "markdown",
      "source": [
        "**bak burası çokomelli**"
      ],
      "metadata": {
        "id": "fL5_aHZxX0BU"
      }
    },
    {
      "cell_type": "code",
      "source": [
        "#türkçe karekterleri düzeltmek için meseleaaaa\n",
        "ifade = \"Zaten kırılmış bir yazılımcıyım\""
      ],
      "metadata": {
        "id": "Wsi0TnrrXhYv"
      },
      "execution_count": 74,
      "outputs": []
    },
    {
      "cell_type": "code",
      "source": [
        "degiscek_harfler = \"ış\"\n",
        "yere_gececekler = \"is\""
      ],
      "metadata": {
        "id": "0sDNNauiYUvc"
      },
      "execution_count": 75,
      "outputs": []
    },
    {
      "cell_type": "code",
      "source": [
        "duzeltme_fonksiyonu = str.maketrans(degiscek_harfler,yere_gececekler)"
      ],
      "metadata": {
        "id": "wHw5ME6aYhGN"
      },
      "execution_count": 78,
      "outputs": []
    },
    {
      "cell_type": "code",
      "source": [
        "ifade.translate(duzeltme_fonksiyonu)"
      ],
      "metadata": {
        "colab": {
          "base_uri": "https://localhost:8080/",
          "height": 35
        },
        "id": "Dx1ckiwaYwFV",
        "outputId": "3a7e2380-6e8e-4e5f-d164-83f0dfb45433"
      },
      "execution_count": 79,
      "outputs": [
        {
          "output_type": "execute_result",
          "data": {
            "application/vnd.google.colaboratory.intrinsic+json": {
              "type": "string"
            },
            "text/plain": [
              "'Zaten kirilmis bir yazilimciyim'"
            ]
          },
          "metadata": {},
          "execution_count": 79
        }
      ]
    },
    {
      "cell_type": "markdown",
      "source": [
        "**contains**"
      ],
      "metadata": {
        "id": "K_1dlqvfcJ4S"
      }
    },
    {
      "cell_type": "code",
      "source": [
        "names = [\"mert\",\"merve\",\"ali\",\"ahmet\"]\n",
        "import pandas as pd\n",
        "names1 = pd.Series(names)\n",
        "names1"
      ],
      "metadata": {
        "colab": {
          "base_uri": "https://localhost:8080/"
        },
        "id": "IdMy5D-iY7Zm",
        "outputId": "07097ce8-781a-41d3-a98d-6150a63aafca"
      },
      "execution_count": 80,
      "outputs": [
        {
          "output_type": "execute_result",
          "data": {
            "text/plain": [
              "0     mert\n",
              "1    merve\n",
              "2      ali\n",
              "3    ahmet\n",
              "dtype: object"
            ]
          },
          "metadata": {},
          "execution_count": 80
        }
      ]
    },
    {
      "cell_type": "code",
      "source": [
        "names1.str.contains(\"mer\")"
      ],
      "metadata": {
        "colab": {
          "base_uri": "https://localhost:8080/"
        },
        "id": "itn_1xAAciUI",
        "outputId": "33eaa6ae-169a-459a-c417-26c35d079856"
      },
      "execution_count": 81,
      "outputs": [
        {
          "output_type": "execute_result",
          "data": {
            "text/plain": [
              "0     True\n",
              "1     True\n",
              "2    False\n",
              "3    False\n",
              "dtype: bool"
            ]
          },
          "metadata": {},
          "execution_count": 81
        }
      ]
    },
    {
      "cell_type": "code",
      "source": [
        "names1[names1.str.contains(\"mer\")]"
      ],
      "metadata": {
        "colab": {
          "base_uri": "https://localhost:8080/"
        },
        "id": "p4P6mr-McpcN",
        "outputId": "d515f4cd-5b08-4f96-e19c-8b984be2d7c4"
      },
      "execution_count": 82,
      "outputs": [
        {
          "output_type": "execute_result",
          "data": {
            "text/plain": [
              "0     mert\n",
              "1    merve\n",
              "dtype: object"
            ]
          },
          "metadata": {},
          "execution_count": 82
        }
      ]
    },
    {
      "cell_type": "code",
      "source": [
        "names1.str.contains(\"mer\").sum()"
      ],
      "metadata": {
        "colab": {
          "base_uri": "https://localhost:8080/"
        },
        "id": "M8S9x9pZcwfs",
        "outputId": "078f91a8-0dc2-4b0f-fb26-f4002e1d0dc8"
      },
      "execution_count": 83,
      "outputs": [
        {
          "output_type": "execute_result",
          "data": {
            "text/plain": [
              "2"
            ]
          },
          "metadata": {},
          "execution_count": 83
        }
      ]
    },
    {
      "cell_type": "code",
      "source": [
        "names1.str.contains(\"[mM]er\") #kücük veya büyük m harfini almak için"
      ],
      "metadata": {
        "colab": {
          "base_uri": "https://localhost:8080/"
        },
        "id": "yn9oTkBAc6HH",
        "outputId": "f9987b5b-1dce-4825-e464-4ed96792272d"
      },
      "execution_count": 84,
      "outputs": [
        {
          "output_type": "execute_result",
          "data": {
            "text/plain": [
              "0     True\n",
              "1     True\n",
              "2    False\n",
              "3    False\n",
              "dtype: bool"
            ]
          },
          "metadata": {},
          "execution_count": 84
        }
      ]
    }
  ]
}